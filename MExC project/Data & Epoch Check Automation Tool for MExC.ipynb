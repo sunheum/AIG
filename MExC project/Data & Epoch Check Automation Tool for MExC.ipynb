{
 "cells": [
  {
   "cell_type": "code",
   "execution_count": 1,
   "metadata": {},
   "outputs": [
    {
     "name": "stderr",
     "output_type": "stream",
     "text": [
      "Using TensorFlow backend.\n"
     ]
    }
   ],
   "source": [
    "import numpy as np\n",
    "import pandas as pd\n",
    "from sklearn.model_selection import train_test_split\n",
    "from keras.preprocessing import sequence\n",
    "from keras.utils import np_utils\n",
    "from keras.models import Sequential\n",
    "from keras.layers import Dense, LSTM, Embedding\n",
    "from keras.models import load_model"
   ]
  },
  {
   "cell_type": "code",
   "execution_count": null,
   "metadata": {},
   "outputs": [],
   "source": [
    "def ModelTest(data_name,interval) :\n",
    "    \n",
    "    data = pd.read_csv(\"{}\".format(data_name),header=None)\n",
    "    test_cnt=len(data.iloc[:,0])/interval\n",
    "    data.columns=['Math Expresion','Expression Name']\n",
    "    data.loc[data[\"Expression Name\"]=='distributor_expression','Expression Name']=0\n",
    "    data.loc[data[\"Expression Name\"]=='linear_expression','Expression Name']=1\n",
    "    data.loc[data[\"Expression Name\"]=='linear_equation','Expression Name']=2\n",
    "    \n",
    "    cnt=0\n",
    "    for s in data.iloc[:,0]:\n",
    "        data.iloc[cnt,0] = bytearray(s, 'utf-8')\n",
    "        cnt+=1\n",
    "        \n",
    "    start = 0\n",
    "    end = interval+1\n",
    "    \n",
    "    while(test_cnt>0):\n",
    "        \n",
    "        data_i = data.iloc[start:end,].copy()            \n",
    "        X_train,X_test,y_train,y_test = train_test_split(data_i.iloc[:,0],data_i.iloc[:,1],test_size=0.2)\n",
    "        X_train_seq = sequence.pad_sequences(X_train, maxlen=200)\n",
    "        X_test_seq = sequence.pad_sequences(X_test, maxlen=200)\n",
    "        Y_train_ctg = np_utils.to_categorical(y_train)\n",
    "        Y_test_ctg = np_utils.to_categorical(y_test)\n",
    "        model = Sequential()\n",
    "        model.add(Embedding(len(X_train), 100))\n",
    "        model.add(LSTM(100, activation='tanh'))\n",
    "        model.add(Dense(3, activation='softmax'))\n",
    "        model.compile(loss='categorical_crossentropy',optimizer='adam',metrics=['accuracy'])\n",
    "        history = model.fit(X_train_seq, Y_train_ctg, batch_size=128, \n",
    "                        epochs=10,validation_data=(X_test_seq, Y_test_ctg))\n",
    "        print(\"\\n Test Accuracy: %.4f\" % (model.evaluate(X_test_seq, Y_test_ctg)[1]))\n",
    "        \n",
    "        test_cnt-=1\n",
    "        start +=interval\n",
    "        end +=interval\n",
    "        \n",
    "        return model\n",
    "\n",
    "\n",
    "\n",
    "def SaveModel(model,data_name) :\n",
    "    model.save('{}.h5'.format(data_name))\n",
    "    \n",
    "\n",
    "def LoadModel(model_name) :\n",
    "    model = load_model('{}.h5'.format(model_name))\n",
    "    return model"
   ]
  }
 ],
 "metadata": {
  "kernelspec": {
   "display_name": "Python 3",
   "language": "python",
   "name": "python3"
  },
  "language_info": {
   "codemirror_mode": {
    "name": "ipython",
    "version": 3
   },
   "file_extension": ".py",
   "mimetype": "text/x-python",
   "name": "python",
   "nbconvert_exporter": "python",
   "pygments_lexer": "ipython3",
   "version": "3.6.10"
  }
 },
 "nbformat": 4,
 "nbformat_minor": 2
}
