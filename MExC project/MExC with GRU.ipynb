{
 "cells": [
  {
   "cell_type": "code",
   "execution_count": 1,
   "metadata": {},
   "outputs": [
    {
     "name": "stderr",
     "output_type": "stream",
     "text": [
      "Using TensorFlow backend.\n"
     ]
    }
   ],
   "source": [
    "import numpy as np\n",
    "import pandas as pd\n",
    "import matplotlib.pyplot as plt\n",
    "from sklearn.model_selection import train_test_split\n",
    "from keras.preprocessing import sequence\n",
    "from keras.utils import np_utils\n",
    "from keras.models import Sequential\n",
    "from keras.layers import Dense, GRU, Embedding\n",
    "from keras.models import load_model\n",
    "import time"
   ]
  },
  {
   "cell_type": "code",
   "execution_count": 2,
   "metadata": {},
   "outputs": [],
   "source": [
    "data1 = pd.read_csv(\"math_expr.csv\",index_col=None)\n",
    "data = data1.iloc[:50000,].copy()"
   ]
  },
  {
   "cell_type": "code",
   "execution_count": 3,
   "metadata": {},
   "outputs": [],
   "source": [
    "data.loc[data[\"Expression Name\"]=='distributor_expression','Expression Name']=0\n",
    "data.loc[data[\"Expression Name\"]=='linear_expression','Expression Name']=1\n",
    "data.loc[data[\"Expression Name\"]=='linear_equation','Expression Name']=2"
   ]
  },
  {
   "cell_type": "code",
   "execution_count": 4,
   "metadata": {},
   "outputs": [],
   "source": [
    "start_time = time.time()\n",
    "a=0\n",
    "for s in data.iloc[:,0]:\n",
    "    data.iloc[a,0] = bytearray(s, 'utf-8')\n",
    "    a+=1\n",
    "    # print(data.iloc[a,0][0]+\"--- {}s seconds ---\".format(time.time() - start_time, 2))"
   ]
  },
  {
   "cell_type": "code",
   "execution_count": 5,
   "metadata": {},
   "outputs": [
    {
     "name": "stdout",
     "output_type": "stream",
     "text": [
      "(40000,)\n",
      "(10000,)\n",
      "(40000,)\n",
      "(10000,)\n"
     ]
    }
   ],
   "source": [
    "X_train,X_test,y_train,y_test = train_test_split(data.iloc[:,0],data.iloc[:,1],test_size=0.2)\n",
    "print(X_train.shape)\n",
    "print(X_test.shape)\n",
    "print(y_train.shape)\n",
    "print(y_test.shape)"
   ]
  },
  {
   "cell_type": "code",
   "execution_count": 6,
   "metadata": {},
   "outputs": [],
   "source": [
    "X_train_seq = sequence.pad_sequences(X_train, maxlen=100)\n",
    "X_test_seq = sequence.pad_sequences(X_test, maxlen=100)"
   ]
  },
  {
   "cell_type": "code",
   "execution_count": 7,
   "metadata": {},
   "outputs": [],
   "source": [
    "Y_train_ctg = np_utils.to_categorical(y_train)\n",
    "Y_test_ctg = np_utils.to_categorical(y_test)"
   ]
  },
  {
   "cell_type": "code",
   "execution_count": 8,
   "metadata": {},
   "outputs": [
    {
     "name": "stdout",
     "output_type": "stream",
     "text": [
      "WARNING:tensorflow:From C:\\Users\\TimeHomme\\Anaconda3\\envs\\py3.5\\lib\\site-packages\\tensorflow\\python\\framework\\op_def_library.py:263: colocate_with (from tensorflow.python.framework.ops) is deprecated and will be removed in a future version.\n",
      "Instructions for updating:\n",
      "Colocations handled automatically by placer.\n"
     ]
    }
   ],
   "source": [
    "model = Sequential()\n",
    "model.add(Embedding(50000, 100))\n",
    "model.add(GRU(100, activation='tanh'))\n",
    "model.add(Dense(3, activation='softmax'))"
   ]
  },
  {
   "cell_type": "code",
   "execution_count": 9,
   "metadata": {},
   "outputs": [],
   "source": [
    "model.compile(loss='categorical_crossentropy',optimizer='adam',metrics=['accuracy'])"
   ]
  },
  {
   "cell_type": "code",
   "execution_count": 10,
   "metadata": {},
   "outputs": [
    {
     "name": "stdout",
     "output_type": "stream",
     "text": [
      "WARNING:tensorflow:From C:\\Users\\TimeHomme\\Anaconda3\\envs\\py3.5\\lib\\site-packages\\tensorflow\\python\\ops\\math_ops.py:3066: to_int32 (from tensorflow.python.ops.math_ops) is deprecated and will be removed in a future version.\n",
      "Instructions for updating:\n",
      "Use tf.cast instead.\n",
      "Train on 40000 samples, validate on 10000 samples\n",
      "Epoch 1/10\n",
      "40000/40000 [==============================] - 45s 1ms/step - loss: 0.2724 - acc: 0.9002 - val_loss: 0.0756 - val_acc: 0.9826\n",
      "Epoch 2/10\n",
      "40000/40000 [==============================] - 45s 1ms/step - loss: 0.0640 - acc: 0.9860 - val_loss: 0.0600 - val_acc: 0.9884\n",
      "Epoch 3/10\n",
      "40000/40000 [==============================] - 45s 1ms/step - loss: 0.0479 - acc: 0.9898 - val_loss: 0.0413 - val_acc: 0.9884\n",
      "Epoch 4/10\n",
      "40000/40000 [==============================] - 45s 1ms/step - loss: 0.0357 - acc: 0.9906 - val_loss: 0.0797 - val_acc: 0.9773\n",
      "Epoch 5/10\n",
      "40000/40000 [==============================] - 45s 1ms/step - loss: 0.0346 - acc: 0.9902 - val_loss: 0.0412 - val_acc: 0.9884\n",
      "Epoch 6/10\n",
      "40000/40000 [==============================] - 45s 1ms/step - loss: 0.0330 - acc: 0.9908 - val_loss: 0.0401 - val_acc: 0.9884\n",
      "Epoch 7/10\n",
      "40000/40000 [==============================] - 45s 1ms/step - loss: 0.0325 - acc: 0.9908 - val_loss: 0.0405 - val_acc: 0.9884\n",
      "Epoch 8/10\n",
      "40000/40000 [==============================] - 45s 1ms/step - loss: 0.0326 - acc: 0.9908 - val_loss: 0.0419 - val_acc: 0.9884\n",
      "Epoch 9/10\n",
      "40000/40000 [==============================] - 45s 1ms/step - loss: 0.0323 - acc: 0.9909 - val_loss: 0.0402 - val_acc: 0.9884\n",
      "Epoch 10/10\n",
      "40000/40000 [==============================] - 45s 1ms/step - loss: 0.0324 - acc: 0.9909 - val_loss: 0.0405 - val_acc: 0.9884\n"
     ]
    }
   ],
   "source": [
    "history = model.fit(X_train_seq, Y_train_ctg, batch_size=128, \n",
    "                    epochs=10,validation_data=(X_test_seq, Y_test_ctg))"
   ]
  },
  {
   "cell_type": "code",
   "execution_count": 12,
   "metadata": {},
   "outputs": [
    {
     "name": "stdout",
     "output_type": "stream",
     "text": [
      "10000/10000 [==============================] - 4s 366us/step\n",
      "\n",
      " Test Accuracy: 0.9884\n"
     ]
    }
   ],
   "source": [
    "print(\"\\n Test Accuracy: %.4f\" % (model.evaluate(X_test_seq, Y_test_ctg)[1]))"
   ]
  },
  {
   "cell_type": "code",
   "execution_count": 13,
   "metadata": {},
   "outputs": [],
   "source": [
    "model.save('MExC_gru_V1.h5')"
   ]
  },
  {
   "cell_type": "code",
   "execution_count": null,
   "metadata": {},
   "outputs": [],
   "source": []
  }
 ],
 "metadata": {
  "kernelspec": {
   "display_name": "Python 3",
   "language": "python",
   "name": "python3"
  },
  "language_info": {
   "codemirror_mode": {
    "name": "ipython",
    "version": 3
   },
   "file_extension": ".py",
   "mimetype": "text/x-python",
   "name": "python",
   "nbconvert_exporter": "python",
   "pygments_lexer": "ipython3",
   "version": "3.6.10"
  }
 },
 "nbformat": 4,
 "nbformat_minor": 2
}
