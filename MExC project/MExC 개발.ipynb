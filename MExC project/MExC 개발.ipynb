{
 "cells": [
  {
   "cell_type": "code",
   "execution_count": 2,
   "metadata": {},
   "outputs": [
    {
     "name": "stderr",
     "output_type": "stream",
     "text": [
      "Using TensorFlow backend.\n"
     ]
    }
   ],
   "source": [
    "import numpy as np\n",
    "import pandas as pd\n",
    "from sklearn.model_selection import train_test_split\n",
    "from keras.preprocessing import sequence\n",
    "from keras.utils import np_utils\n",
    "from keras.models import Sequential\n",
    "from keras.layers import Dense, LSTM, Embedding\n",
    "from keras.models import load_model\n",
    "from keras.callbacks import EarlyStopping\n",
    "from keras.callbacks import ModelCheckpoint\n",
    "import tensorflow as tf\n",
    "import time\n",
    "import matplotlib.pyplot as plt\n",
    "import warnings\n",
    "warnings.filterwarnings('ignore')\n",
    "gpu_devices = tf.config.experimental.list_physical_devices('GPU')\n",
    "tf.config.experimental.set_memory_growth(gpu_devices[0], True)"
   ]
  },
  {
   "cell_type": "code",
   "execution_count": 60,
   "metadata": {},
   "outputs": [],
   "source": [
    "model=load_model('./models/new_model_fix_cat19.h5')"
   ]
  },
  {
   "cell_type": "code",
   "execution_count": 129,
   "metadata": {},
   "outputs": [],
   "source": [
    "test = pd.read_csv('./data/test_data.csv',header=None)"
   ]
  },
  {
   "cell_type": "code",
   "execution_count": 131,
   "metadata": {},
   "outputs": [],
   "source": [
    "test=test.iloc[:,0]"
   ]
  },
  {
   "cell_type": "code",
   "execution_count": 134,
   "metadata": {},
   "outputs": [
    {
     "data": {
      "text/plain": [
       "0                        [45, 97, 45, 56, 98, 45, 53, 99]\n",
       "1       [92, 102, 114, 97, 99, 123, 50, 125, 123, 53, ...\n",
       "2                  [55, 43, 51, 121, 45, 55, 43, 52, 121]\n",
       "3       [45, 92, 108, 101, 102, 116, 40, 51, 94, 123, ...\n",
       "4                                            [97, 62, 55]\n",
       "                              ...                        \n",
       "2995                 [45, 53, 97, 43, 55, 98, 45, 56, 99]\n",
       "2996    [123, 45, 49, 125, 94, 123, 45, 54, 97, 43, 57...\n",
       "2997                                     [97, 61, 45, 52]\n",
       "2998                                     [97, 60, 45, 57]\n",
       "2999                                         [97, 61, 55]\n",
       "Name: 0, Length: 3000, dtype: object"
      ]
     },
     "execution_count": 134,
     "metadata": {},
     "output_type": "execute_result"
    }
   ],
   "source": [
    "test"
   ]
  },
  {
   "cell_type": "code",
   "execution_count": 133,
   "metadata": {},
   "outputs": [],
   "source": [
    "num=0\n",
    "for s in test:\n",
    "        test[num] = bytearray(s, 'utf-8')\n",
    "        num+=1"
   ]
  },
  {
   "cell_type": "code",
   "execution_count": 135,
   "metadata": {},
   "outputs": [],
   "source": [
    "X_test = sequence.pad_sequences(test, maxlen=200)"
   ]
  },
  {
   "cell_type": "code",
   "execution_count": 137,
   "metadata": {
    "scrolled": true
   },
   "outputs": [],
   "source": [
    "score=model.predict(X_test)"
   ]
  },
  {
   "cell_type": "code",
   "execution_count": 142,
   "metadata": {},
   "outputs": [],
   "source": [
    "score_max=100\n",
    "for i in range(len(score)):\n",
    "    if score_max>np.max(score[i]):\n",
    "        score_max=np.max(score[i])"
   ]
  },
  {
   "cell_type": "code",
   "execution_count": 143,
   "metadata": {},
   "outputs": [
    {
     "data": {
      "text/plain": [
       "0.99116427"
      ]
     },
     "execution_count": 143,
     "metadata": {},
     "output_type": "execute_result"
    }
   ],
   "source": [
    "score_max"
   ]
  },
  {
   "cell_type": "code",
   "execution_count": 115,
   "metadata": {},
   "outputs": [
    {
     "name": "stdout",
     "output_type": "stream",
     "text": [
      "17\n",
      "17\n",
      "2\n",
      "17\n",
      "17\n",
      "2\n",
      "1\n",
      "1\n",
      "1\n",
      "10\n"
     ]
    }
   ],
   "source": [
    "for i in range(len(model.predict(X_test))):\n",
    "    print(np.argmax(model.predict(X_test)[i]))"
   ]
  },
  {
   "cell_type": "code",
   "execution_count": null,
   "metadata": {},
   "outputs": [],
   "source": []
  },
  {
   "cell_type": "code",
   "execution_count": null,
   "metadata": {},
   "outputs": [],
   "source": []
  },
  {
   "cell_type": "code",
   "execution_count": null,
   "metadata": {},
   "outputs": [],
   "source": []
  },
  {
   "cell_type": "code",
   "execution_count": null,
   "metadata": {},
   "outputs": [],
   "source": []
  },
  {
   "cell_type": "code",
   "execution_count": 4,
   "metadata": {},
   "outputs": [],
   "source": [
    "data = pd.read_csv(\"./math_expr_new_9.csv\",header=None)"
   ]
  },
  {
   "cell_type": "code",
   "execution_count": 84,
   "metadata": {},
   "outputs": [],
   "source": [
    "def mexc_pre(math_expression):\n",
    "    data = pd.read_csv(\"{}\".format(math_expression),header=None)\n",
    "       \n",
    "    num=0\n",
    "    for s in data.iloc[:,0]:\n",
    "        data.iloc[num,0] = bytearray(s, 'utf-8')\n",
    "        num+=1\n",
    "    \n",
    "    X_test = sequence.pad_sequences(data.iloc[:,0], maxlen=200)\n",
    "    pre = model.predict(X_test)\n",
    "    \n",
    "    pre_list=[]\n",
    "    for i in range(len(pre)) :\n",
    "        if np.argmax(pre[i]) == 0 :\n",
    "            pre_list.append('distributor_expression')\n",
    "        elif np.argmax(pre[i]) == 1 :\n",
    "            pre_list.append('linear_expression')\n",
    "        elif np.argmax(pre[i]) == 2 :\n",
    "            pre_list.append('linear_equation')\n",
    "    print(pre_list)"
   ]
  },
  {
   "cell_type": "code",
   "execution_count": 14,
   "metadata": {},
   "outputs": [],
   "source": [
    "def change_model(model_name) :\n",
    "    global model\n",
    "    model = load_model('{}'.format(model_name))"
   ]
  },
  {
   "cell_type": "code",
   "execution_count": 20,
   "metadata": {},
   "outputs": [],
   "source": [
    "def model_fit(data_name,epoch,save_name):\n",
    "    data = pd.read_csv(\"{}\".format(data_name),header=None)\n",
    "    data.columns=['Math Expresion','Expression Name']\n",
    "    data.loc[data[\"Expression Name\"]=='distributor_expression','Expression Name']=0\n",
    "    data.loc[data[\"Expression Name\"]=='linear_expression','Expression Name']=1\n",
    "    data.loc[data[\"Expression Name\"]=='linear_equation','Expression Name']=2\n",
    "    \n",
    "    num=0\n",
    "    for s in data.iloc[:,0]:\n",
    "        data.iloc[num,0] = bytearray(s, 'utf-8')\n",
    "        num+=1\n",
    "    \n",
    "    earlystop = EarlyStopping(monitor='val_loss', mode='min',min_delta=0.0001, verbose = 1, patience=5)\n",
    "    mc = ModelCheckpoint('./models/model_{}.h5'.format(save_name), monitor='val_loss', mode='min', save_best_only=True)\n",
    "    \n",
    "    X_train,X_test,y_train,y_test = train_test_split(data.iloc[:,0],data.iloc[:,1],test_size=0.2)\n",
    "    X_train_seq = sequence.pad_sequences(X_train, maxlen=200)\n",
    "    X_test_seq = sequence.pad_sequences(X_test, maxlen=200)\n",
    "    Y_train_ctg = np_utils.to_categorical(y_train)\n",
    "    Y_test_ctg = np_utils.to_categorical(y_test)\n",
    "    \n",
    "    model = Sequential()\n",
    "    model.add(Embedding(len(X_train), 100))\n",
    "    model.add(LSTM(100, activation='tanh'))\n",
    "    model.add(Dense(3, activation='softmax'))\n",
    "    model.compile(loss='categorical_crossentropy',optimizer='adam',metrics=['accuracy'])\n",
    "    history = model.fit(X_train_seq, Y_train_ctg, batch_size=128, \n",
    "                    epochs=epoch,validation_data=(X_test_seq, Y_test_ctg),callbacks=[earlystop,mc],\n",
    "                       verbose=2)"
   ]
  },
  {
   "cell_type": "code",
   "execution_count": 21,
   "metadata": {
    "scrolled": true
   },
   "outputs": [
    {
     "name": "stdout",
     "output_type": "stream",
     "text": [
      "Train on 16 samples, validate on 4 samples\n",
      "Epoch 1/200\n",
      " - 0s - loss: 1.0986 - accuracy: 0.1875 - val_loss: 1.0935 - val_accuracy: 0.5000\n",
      "Epoch 2/200\n",
      " - 0s - loss: 1.0941 - accuracy: 0.5000 - val_loss: 1.0881 - val_accuracy: 0.5000\n",
      "Epoch 3/200\n",
      " - 0s - loss: 1.0893 - accuracy: 0.5000 - val_loss: 1.0821 - val_accuracy: 0.5000\n",
      "Epoch 4/200\n",
      " - 0s - loss: 1.0837 - accuracy: 0.5000 - val_loss: 1.0751 - val_accuracy: 0.5000\n",
      "Epoch 5/200\n",
      " - 0s - loss: 1.0770 - accuracy: 0.5000 - val_loss: 1.0669 - val_accuracy: 0.5000\n",
      "Epoch 6/200\n",
      " - 0s - loss: 1.0687 - accuracy: 0.5000 - val_loss: 1.0570 - val_accuracy: 0.5000\n",
      "Epoch 7/200\n",
      " - 0s - loss: 1.0581 - accuracy: 0.5000 - val_loss: 1.0448 - val_accuracy: 0.5000\n",
      "Epoch 8/200\n",
      " - 0s - loss: 1.0441 - accuracy: 0.5000 - val_loss: 1.0293 - val_accuracy: 0.5000\n",
      "Epoch 9/200\n",
      " - 0s - loss: 1.0251 - accuracy: 0.5000 - val_loss: 1.0084 - val_accuracy: 0.5000\n",
      "Epoch 10/200\n",
      " - 0s - loss: 0.9985 - accuracy: 0.5625 - val_loss: 0.9786 - val_accuracy: 0.5000\n",
      "Epoch 11/200\n",
      " - 0s - loss: 0.9643 - accuracy: 0.5625 - val_loss: 0.9350 - val_accuracy: 0.5000\n",
      "Epoch 12/200\n",
      " - 0s - loss: 0.9370 - accuracy: 0.4375 - val_loss: 0.8949 - val_accuracy: 0.7500\n",
      "Epoch 13/200\n",
      " - 0s - loss: 0.8941 - accuracy: 0.5625 - val_loss: 0.8918 - val_accuracy: 0.5000\n",
      "Epoch 14/200\n",
      " - 0s - loss: 0.8661 - accuracy: 0.5625 - val_loss: 0.8845 - val_accuracy: 0.5000\n",
      "Epoch 15/200\n",
      " - 0s - loss: 0.8500 - accuracy: 0.6250 - val_loss: 0.8088 - val_accuracy: 0.5000\n",
      "Epoch 16/200\n",
      " - 0s - loss: 0.8106 - accuracy: 0.5625 - val_loss: 0.7369 - val_accuracy: 0.7500\n",
      "Epoch 17/200\n",
      " - 0s - loss: 0.8200 - accuracy: 0.6250 - val_loss: 0.8362 - val_accuracy: 0.5000\n",
      "Epoch 18/200\n",
      " - 0s - loss: 0.7852 - accuracy: 0.6250 - val_loss: 0.8466 - val_accuracy: 0.5000\n",
      "Epoch 19/200\n",
      " - 0s - loss: 0.7836 - accuracy: 0.6250 - val_loss: 0.7933 - val_accuracy: 0.5000\n",
      "Epoch 20/200\n",
      " - 0s - loss: 0.7571 - accuracy: 0.6250 - val_loss: 0.7592 - val_accuracy: 0.5000\n",
      "Epoch 21/200\n",
      " - 0s - loss: 0.7697 - accuracy: 0.5000 - val_loss: 0.7976 - val_accuracy: 0.5000\n",
      "Epoch 00021: early stopping\n"
     ]
    }
   ],
   "source": [
    "model_fit('math_expr_new_20.csv',200)"
   ]
  },
  {
   "cell_type": "code",
   "execution_count": 22,
   "metadata": {},
   "outputs": [],
   "source": [
    "change_model('./models/model_math_expr_new_20.h5')"
   ]
  },
  {
   "cell_type": "code",
   "execution_count": 23,
   "metadata": {
    "collapsed": true
   },
   "outputs": [
    {
     "name": "stdout",
     "output_type": "stream",
     "text": [
      "['linear_equation', 'linear_equation', 'distributor_expression', 'distributor_expression', 'distributor_expression', 'linear_equation', 'distributor_expression', 'linear_equation', 'distributor_expression', 'linear_equation', 'linear_expression', 'linear_expression', 'linear_equation', 'distributor_expression', 'linear_equation', 'linear_equation', 'linear_equation', 'distributor_expression', 'linear_equation', 'linear_equation', 'linear_equation', 'linear_equation', 'distributor_expression', 'distributor_expression', 'linear_expression', 'linear_equation', 'linear_equation', 'linear_equation', 'distributor_expression', 'linear_equation', 'linear_expression', 'linear_expression', 'distributor_expression', 'linear_equation', 'distributor_expression', 'linear_equation', 'distributor_expression', 'linear_expression', 'linear_equation', 'linear_equation', 'linear_equation', 'distributor_expression', 'distributor_expression', 'linear_equation', 'distributor_expression', 'distributor_expression', 'distributor_expression', 'linear_equation', 'linear_equation', 'distributor_expression', 'linear_equation', 'distributor_expression', 'distributor_expression', 'distributor_expression', 'linear_equation', 'linear_equation', 'distributor_expression', 'linear_equation', 'distributor_expression', 'linear_equation', 'linear_equation', 'distributor_expression', 'distributor_expression', 'linear_equation', 'distributor_expression', 'distributor_expression', 'distributor_expression', 'linear_expression', 'linear_expression', 'distributor_expression', 'linear_equation', 'distributor_expression', 'linear_expression', 'linear_expression', 'distributor_expression', 'linear_equation', 'linear_equation', 'linear_equation', 'distributor_expression', 'linear_equation', 'distributor_expression', 'linear_equation', 'distributor_expression', 'linear_equation', 'distributor_expression', 'distributor_expression', 'linear_expression', 'linear_equation', 'distributor_expression', 'distributor_expression', 'linear_equation', 'linear_equation', 'linear_expression', 'linear_expression', 'distributor_expression', 'linear_equation', 'linear_equation', 'distributor_expression', 'distributor_expression', 'linear_equation']\n"
     ]
    }
   ],
   "source": [
    "mexc_pre('./new_samples.csv')"
   ]
  },
  {
   "cell_type": "code",
   "execution_count": 11,
   "metadata": {
    "collapsed": true
   },
   "outputs": [
    {
     "name": "stdout",
     "output_type": "stream",
     "text": [
      "['linear_equation', 'distributor_expression', 'distributor_expression', 'linear_equation', 'distributor_expression', 'linear_equation', 'linear_equation', 'linear_equation', 'linear_equation', 'linear_equation', 'linear_expression', 'linear_expression', 'linear_equation', 'linear_equation', 'linear_expression', 'distributor_expression', 'distributor_expression', 'linear_equation', 'linear_expression', 'linear_equation', 'linear_expression', 'distributor_expression', 'linear_equation', 'linear_equation', 'linear_expression', 'linear_equation', 'linear_equation', 'linear_expression', 'distributor_expression', 'linear_expression', 'linear_expression', 'linear_expression', 'linear_equation', 'linear_equation', 'linear_equation', 'linear_expression', 'distributor_expression', 'linear_expression', 'linear_expression', 'linear_equation', 'linear_expression', 'distributor_expression', 'distributor_expression', 'distributor_expression', 'distributor_expression', 'distributor_expression', 'distributor_expression', 'distributor_expression', 'linear_equation', 'distributor_expression', 'linear_expression', 'distributor_expression', 'linear_equation', 'linear_equation', 'distributor_expression', 'linear_expression', 'linear_equation', 'linear_equation', 'linear_equation', 'linear_expression', 'distributor_expression', 'linear_equation', 'linear_equation', 'linear_expression', 'distributor_expression', 'distributor_expression', 'distributor_expression', 'linear_expression', 'linear_expression', 'linear_equation', 'linear_expression', 'distributor_expression', 'linear_expression', 'linear_expression', 'linear_equation', 'linear_expression', 'linear_equation', 'distributor_expression', 'linear_equation', 'distributor_expression', 'distributor_expression', 'linear_expression', 'distributor_expression', 'distributor_expression', 'linear_equation', 'distributor_expression', 'linear_expression', 'linear_expression', 'linear_equation', 'linear_equation', 'linear_expression', 'linear_expression', 'linear_expression', 'linear_expression', 'distributor_expression', 'distributor_expression', 'linear_equation', 'distributor_expression', 'linear_equation', 'linear_equation']\n"
     ]
    }
   ],
   "source": [
    "mexc_pre('./new_samples.csv')"
   ]
  },
  {
   "cell_type": "code",
   "execution_count": null,
   "metadata": {},
   "outputs": [],
   "source": []
  }
 ],
 "metadata": {
  "kernelspec": {
   "display_name": "Python 3",
   "language": "python",
   "name": "python3"
  },
  "language_info": {
   "codemirror_mode": {
    "name": "ipython",
    "version": 3
   },
   "file_extension": ".py",
   "mimetype": "text/x-python",
   "name": "python",
   "nbconvert_exporter": "python",
   "pygments_lexer": "ipython3",
   "version": "3.6.10"
  }
 },
 "nbformat": 4,
 "nbformat_minor": 4
}
