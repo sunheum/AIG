{
 "cells": [
  {
   "cell_type": "code",
   "execution_count": 9,
   "metadata": {},
   "outputs": [],
   "source": [
    "from eunjeon import Mecab\n",
    "import pandas as pd"
   ]
  },
  {
   "cell_type": "code",
   "execution_count": 24,
   "metadata": {},
   "outputs": [],
   "source": [
    "text1 = '자연수 $x$보다 작은 수 중 가장 큰 소수를 $\\{x\\}$로 나타내기로 할 때, $\\{x\\}=31$을 만족시키는 자연수 $x$의 개수는?'"
   ]
  },
  {
   "cell_type": "code",
   "execution_count": 2,
   "metadata": {},
   "outputs": [],
   "source": [
    "import re"
   ]
  },
  {
   "cell_type": "code",
   "execution_count": 9,
   "metadata": {},
   "outputs": [],
   "source": [
    "def trans(text) :\n",
    "    \n",
    "    while True :\n",
    "        idx=[]\n",
    "        for a in re.finditer('\\$',text) :\n",
    "            idx.append(a.start())\n",
    "        if len(idx) != 0 :\n",
    "            text=text.replace(text[idx[0]:(idx[1]+1)],\"수학수식\") \n",
    "        else :\n",
    "            return text\n",
    "            break"
   ]
  },
  {
   "cell_type": "code",
   "execution_count": 10,
   "metadata": {},
   "outputs": [
    {
     "data": {
      "text/plain": [
       "'자연수 $x$보다 작은 수 중 가장 큰 소수를 $\\\\{x\\\\}$로 나타내기로 할 때, $\\\\{x\\\\}=31$을 만족시키는 자연수 $x$의 개수는?'"
      ]
     },
     "execution_count": 10,
     "metadata": {},
     "output_type": "execute_result"
    }
   ],
   "source": [
    "text1"
   ]
  },
  {
   "cell_type": "code",
   "execution_count": 11,
   "metadata": {},
   "outputs": [
    {
     "data": {
      "text/plain": [
       "'자연수 수학수식보다 작은 수 중 가장 큰 소수를 수학수식로 나타내기로 할 때, 수학수식을 만족시키는 자연수 수학수식의 개수는?'"
      ]
     },
     "execution_count": 11,
     "metadata": {},
     "output_type": "execute_result"
    }
   ],
   "source": [
    "trans(text1)"
   ]
  },
  {
   "cell_type": "code",
   "execution_count": 44,
   "metadata": {},
   "outputs": [],
   "source": [
    "text_list=['$3^{a}=81$, $\\dfrac{1}{5^{b}}=\\dfrac{1}{25}$을 만족시키는 자연수 $a$, $b$에 대하여 $a -b$의 값은?',\n",
    "          '$a\\times b\\times b\\times c\\times c\\times a\\times b\\times a =a^{x}\\times b^{y}\\times c^{z}$을 만족시키는 자연수 $x$, $y$, $z$에 대하여 $y +z -x$의 값은? (단, $a$, $b$, $c$는 서로 다른 소수이다.)',\n",
    "          '한 덩어리의 밀가루 반죽을 손으로 길게 잡아당겨 한 번 접고 다시 잡아당겨 접는 일을 반복하여 수타면을 만들려고 한다. 한 번 접으면 면은 $2$가닥이 되고, 두 번 접으면 $4$가닥이 된다고 할 때, $512$가닥의 면을 만들려면 밀가루 반죽을 몇 번 접어야 하는가?',\n",
    "          '$90$을 소인수분해하면 $2^{a}\\times 3^{b}\\times 5^{c}$일 때, 자연수 $a$, $b$, $c$에 대하여 $a +b +c$의 값은?',\n",
    "          '$288$을 소인수분해하면 $a^{m}\\times b^{n}$이다. 이때 자연수 $a$, $b$, $m$, $n$에 대하여 $a +b +m +n$의 값은?',\n",
    "          '$24\\times a =b^{2}$을 만족시키는 가장 작은 자연수 $a$, $b$에 대하여 $a +b$의 값은?',\n",
    "          '$2^{2}\\times 5^{a}\\times 11$의 약수의 개수가 $24$일 때, 자연수 $a$의 값은?']"
   ]
  },
  {
   "cell_type": "code",
   "execution_count": 13,
   "metadata": {},
   "outputs": [
    {
     "data": {
      "text/plain": [
       "'수학수식, 수학수식을 만족시키는 자연수 수학수식, 수학수식에 대하여 수학수식의 값은?'"
      ]
     },
     "execution_count": 13,
     "metadata": {},
     "output_type": "execute_result"
    }
   ],
   "source": [
    "trans(text_list[0])"
   ]
  },
  {
   "cell_type": "code",
   "execution_count": 14,
   "metadata": {},
   "outputs": [
    {
     "data": {
      "text/plain": [
       "'수학수식을 만족시키는 자연수 수학수식, 수학수식, 수학수식에 대하여 수학수식의 값은? (단, 수학수식, 수학수식, 수학수식는 서로 다른 소수이다.)'"
      ]
     },
     "execution_count": 14,
     "metadata": {},
     "output_type": "execute_result"
    }
   ],
   "source": [
    "trans(text_list[1])"
   ]
  },
  {
   "cell_type": "code",
   "execution_count": 15,
   "metadata": {},
   "outputs": [
    {
     "data": {
      "text/plain": [
       "'한 덩어리의 밀가루 반죽을 손으로 길게 잡아당겨 한 번 접고 다시 잡아당겨 접는 일을 반복하여 수타면을 만들려고 한다. 한 번 접으면 면은 수학수식가닥이 되고, 두 번 접으면 수학수식가닥이 된다고 할 때, 수학수식가닥의 면을 만들려면 밀가루 반죽을 몇 번 접어야 하는가?'"
      ]
     },
     "execution_count": 15,
     "metadata": {},
     "output_type": "execute_result"
    }
   ],
   "source": [
    "trans(text_list[2])"
   ]
  },
  {
   "cell_type": "code",
   "execution_count": 16,
   "metadata": {},
   "outputs": [
    {
     "data": {
      "text/plain": [
       "'수학수식을 소인수분해하면 수학수식일 때, 자연수 수학수식, 수학수식, 수학수식에 대하여 수학수식의 값은?'"
      ]
     },
     "execution_count": 16,
     "metadata": {},
     "output_type": "execute_result"
    }
   ],
   "source": [
    "trans(text_list[3])"
   ]
  },
  {
   "cell_type": "code",
   "execution_count": 17,
   "metadata": {},
   "outputs": [
    {
     "data": {
      "text/plain": [
       "'수학수식을 소인수분해하면 수학수식이다. 이때 자연수 수학수식, 수학수식, 수학수식, 수학수식에 대하여 수학수식의 값은?'"
      ]
     },
     "execution_count": 17,
     "metadata": {},
     "output_type": "execute_result"
    }
   ],
   "source": [
    "trans(text_list[4])"
   ]
  },
  {
   "cell_type": "code",
   "execution_count": 18,
   "metadata": {},
   "outputs": [
    {
     "data": {
      "text/plain": [
       "'수학수식을 만족시키는 가장 작은 자연수 수학수식, 수학수식에 대하여 수학수식의 값은?'"
      ]
     },
     "execution_count": 18,
     "metadata": {},
     "output_type": "execute_result"
    }
   ],
   "source": [
    "trans(text_list[5])"
   ]
  },
  {
   "cell_type": "code",
   "execution_count": 19,
   "metadata": {},
   "outputs": [
    {
     "data": {
      "text/plain": [
       "'수학수식의 약수의 개수가 수학수식일 때, 자연수 수학수식의 값은?'"
      ]
     },
     "execution_count": 19,
     "metadata": {},
     "output_type": "execute_result"
    }
   ],
   "source": [
    "trans(text_list[6])"
   ]
  },
  {
   "cell_type": "code",
   "execution_count": null,
   "metadata": {},
   "outputs": [],
   "source": []
  },
  {
   "cell_type": "code",
   "execution_count": null,
   "metadata": {},
   "outputs": [],
   "source": []
  },
  {
   "cell_type": "markdown",
   "metadata": {},
   "source": [
    "# 수학문제 수식 MExC용 input data로 변환"
   ]
  },
  {
   "cell_type": "code",
   "execution_count": 33,
   "metadata": {},
   "outputs": [],
   "source": [
    "import csv"
   ]
  },
  {
   "cell_type": "code",
   "execution_count": 49,
   "metadata": {},
   "outputs": [],
   "source": [
    "sample = text_list[1]"
   ]
  },
  {
   "cell_type": "code",
   "execution_count": 50,
   "metadata": {},
   "outputs": [],
   "source": [
    "idx=[]\n",
    "me=[]\n",
    "for a in re.finditer('\\$',sample):\n",
    "    idx.append(a.start())\n",
    "for i in range(int(len(idx)/2)):\n",
    "    me.append(sample[idx[2*i]+1:(idx[2*i+1])])"
   ]
  },
  {
   "cell_type": "code",
   "execution_count": 51,
   "metadata": {},
   "outputs": [
    {
     "data": {
      "text/plain": [
       "['a\\times b\\times b\\times c\\times c\\times a\\times b\\times a =a^{x}\\times b^{y}\\times c^{z}',\n",
       " 'x',\n",
       " 'y',\n",
       " 'z',\n",
       " 'y +z -x',\n",
       " 'a',\n",
       " 'b',\n",
       " 'c']"
      ]
     },
     "execution_count": 51,
     "metadata": {},
     "output_type": "execute_result"
    }
   ],
   "source": [
    "me"
   ]
  },
  {
   "cell_type": "code",
   "execution_count": 52,
   "metadata": {},
   "outputs": [],
   "source": [
    "csv=pd.Series(me)"
   ]
  },
  {
   "cell_type": "code",
   "execution_count": 53,
   "metadata": {},
   "outputs": [],
   "source": [
    "csv.to_csv('sample.csv',index=None,header=None)"
   ]
  },
  {
   "cell_type": "code",
   "execution_count": 8,
   "metadata": {},
   "outputs": [
    {
     "name": "stderr",
     "output_type": "stream",
     "text": [
      "Using TensorFlow backend.\n"
     ]
    }
   ],
   "source": [
    "import mexc"
   ]
  },
  {
   "cell_type": "code",
   "execution_count": 54,
   "metadata": {},
   "outputs": [
    {
     "data": {
      "text/plain": [
       "['linear_equation',\n",
       " 'linear_expression',\n",
       " 'linear_expression',\n",
       " 'linear_expression',\n",
       " 'linear_expression',\n",
       " 'linear_expression',\n",
       " 'linear_expression',\n",
       " 'linear_expression']"
      ]
     },
     "execution_count": 54,
     "metadata": {},
     "output_type": "execute_result"
    }
   ],
   "source": [
    "mexc.mexc_pre('./sample.csv')"
   ]
  },
  {
   "cell_type": "code",
   "execution_count": null,
   "metadata": {},
   "outputs": [],
   "source": []
  }
 ],
 "metadata": {
  "kernelspec": {
   "display_name": "Python 3",
   "language": "python",
   "name": "python3"
  },
  "language_info": {
   "codemirror_mode": {
    "name": "ipython",
    "version": 3
   },
   "file_extension": ".py",
   "mimetype": "text/x-python",
   "name": "python",
   "nbconvert_exporter": "python",
   "pygments_lexer": "ipython3",
   "version": "3.6.10"
  }
 },
 "nbformat": 4,
 "nbformat_minor": 4
}
