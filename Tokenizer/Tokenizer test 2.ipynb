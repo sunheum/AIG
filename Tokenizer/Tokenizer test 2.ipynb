{
 "cells": [
  {
   "cell_type": "code",
   "execution_count": 1,
   "metadata": {},
   "outputs": [],
   "source": [
    "import time\n",
    "import pandas as pd\n",
    "from tqdm import tqdm\n",
    "import random\n",
    "import sys"
   ]
  },
  {
   "cell_type": "code",
   "execution_count": 2,
   "metadata": {},
   "outputs": [],
   "source": [
    "phrase=['경희는 인절미 20개, 가래떡 12개를 가능한 한 많은 접시에 똑같이 나누어 담으려고 할 때, 필요한 접시의 개수는?',\n",
    "        '정식 명칭은 위키위키지만 보통 위키라고 줄여부른다.',\n",
    "        '빠른 정보갱신과 공유가 간편하고 영향력이 매우 빠르고 지속적으로 커졌다는 점',\n",
    "        '21세기 인터넷 사회의 지식 공유 트렌드가 되었다고 봐도 무방할 정도이다.',\n",
    "        '사실 트렌드 주도는 딱딱한 공식 위키가 아니다',\n",
    "        '다소 편향된 이야기도 자유롭게 토론하고 수정할 수 있는 자유형, 왜곡형 위키의 확산의 도움이 컸다.',\n",
    "        '제대로 이유를 밝히지도 않고 편집을 되돌리는 경우가 많은 편이기도 하다.',\n",
    "        '개선안 요점 정리로 일반인에서 전문가들까지 알게 모르게 확산되는 추세다.',\n",
    "        '많은 사용자가 유입되어야 그 중 전문직종의 사람들도 생겨나기 때문.',\n",
    "        '스스로 정체를 밝히기 전까지는 오히려 여론전에서 밀리는 분위기였다.']\n",
    "        "
   ]
  },
  {
   "cell_type": "code",
   "execution_count": 3,
   "metadata": {},
   "outputs": [],
   "source": [
    "from eunjeon import Mecab"
   ]
  },
  {
   "cell_type": "code",
   "execution_count": null,
   "metadata": {
    "scrolled": false
   },
   "outputs": [
    {
     "name": "stderr",
     "output_type": "stream",
     "text": [
      " 44%|████████████████████████████▋                                    | 4405757/10000000 [23:27:07<55:32:26, 27.98it/s]"
     ]
    }
   ],
   "source": [
    "time_mecab=[]\n",
    "instance=Mecab()\n",
    "sys.stdout= open('D:\\mecab_result.txt','w+')\n",
    "# for i in tqdm(range(30)):\n",
    "for i in tqdm(range(10000000)):\n",
    "    input_str = phrase[random.randrange(0,10)]\n",
    "    startTime = time.time()\n",
    "    result=instance.pos(input_str)\n",
    "    time.sleep(0.001)\n",
    "    endTime = time.time()\n",
    "    time_mecab.append(time.time() - startTime)\n",
    "    avg = sum(time_mecab)/len(time_mecab)\n",
    "    print(str(i+1)+\"회\")\n",
    "    print(result)\n",
    "    print(\"이번회차\",endTime - startTime)\n",
    "    print(\"누적시간\",sum(time_mecab,0.0))\n",
    "    print(\"평균시간\",avg)"
   ]
  },
  {
   "cell_type": "code",
   "execution_count": 1,
   "metadata": {},
   "outputs": [],
   "source": []
  },
  {
   "cell_type": "code",
   "execution_count": null,
   "metadata": {},
   "outputs": [],
   "source": [
    "from konlpy.tag import Okt "
   ]
  },
  {
   "cell_type": "code",
   "execution_count": null,
   "metadata": {},
   "outputs": [],
   "source": [
    "startTime = time.time()\n",
    "time_okt=[]\n",
    "for i in tqdm(range(1000000)):\n",
    "    #print(i+1)\n",
    "    instance=Okt()\n",
    "    result=instance.pos(phrase1)\n",
    "    time_okt.append(time.time() - startTime)\n",
    "    #print(result)"
   ]
  },
  {
   "cell_type": "code",
   "execution_count": null,
   "metadata": {},
   "outputs": [],
   "source": []
  },
  {
   "cell_type": "code",
   "execution_count": null,
   "metadata": {},
   "outputs": [],
   "source": []
  },
  {
   "cell_type": "code",
   "execution_count": null,
   "metadata": {
    "scrolled": false
   },
   "outputs": [
    {
     "name": "stderr",
     "output_type": "stream",
     "text": [
      "  6%|████▌                                                                    | 62001/1000000 [02:48<43:34, 358.72it/s]"
     ]
    }
   ],
   "source": [
    "import importlib\n",
    "import konlpy\n",
    "# from konlpy.tag import Okt \n",
    "\n",
    "time_okt=[]\n",
    "# sys.stdout= open('okt_result.txt','a')\n",
    "for i in tqdm(range(1000000)):\n",
    "    startTime = time.time()\n",
    "    instance=konlpy.tag.Okt(max_heap_size= 4096)\n",
    "    result=instance.pos(phrase1)\n",
    "    time_okt.append(time.time() - startTime)\n",
    "    avg = sum(time_okt,0.0)/len(time_okt)\n",
    "    instance = None\n",
    "#     Okt.reload()\n",
    "    importlib.reload(konlpy)\n",
    "    #print(str(i+1)+\"회\")\n",
    "#     print(avg)"
   ]
  },
  {
   "cell_type": "code",
   "execution_count": null,
   "metadata": {},
   "outputs": [],
   "source": [
    "from konlpy.tag import Kkma"
   ]
  },
  {
   "cell_type": "code",
   "execution_count": null,
   "metadata": {},
   "outputs": [],
   "source": [
    "time_kkma=[]\n",
    "sys.stdout= open('kkma_result.txt','a')\n",
    "for i in tqdm(range(1000000)):\n",
    "    startTime = time.time()\n",
    "    instance=Kkma()\n",
    "    result=instance.pos(phrase1)\n",
    "    time_kkma.append(time.time() - startTime)\n",
    "    avg = sum(time_kkma,0.0)/len(time_kkma)\n",
    "    #print(str(i+1)+\"회\")\n",
    "    print(avg)"
   ]
  },
  {
   "cell_type": "code",
   "execution_count": null,
   "metadata": {},
   "outputs": [],
   "source": [
    "from konlpy.tag import Komoran"
   ]
  },
  {
   "cell_type": "code",
   "execution_count": null,
   "metadata": {
    "scrolled": true
   },
   "outputs": [],
   "source": [
    "time_komoran=[]\n",
    "sys.stdout= open('komoran_result.txt','a')\n",
    "instance=Komoran(max_heap_size= 1024 * 6)\n",
    "for i in tqdm(range(1000000)):\n",
    "    startTime = time.time()\n",
    "    time.sleep(1)\n",
    "    instance=Komoran(max_heap_size= 1024 * 6)\n",
    "    time.sleep(1)\n",
    "    result=instance.pos(phrase1)\n",
    "    time_komoran.append(time.time() - startTime)\n",
    "    avg = sum(time_komoran,0.0)/len(time_komoran)\n",
    "    #print(str(i+1)+\"회\")\n",
    "    print(avg)"
   ]
  },
  {
   "cell_type": "markdown",
   "metadata": {},
   "source": [
    "# windows용 mecab"
   ]
  },
  {
   "cell_type": "code",
   "execution_count": 2,
   "metadata": {
    "scrolled": true
   },
   "outputs": [
    {
     "name": "stdout",
     "output_type": "stream",
     "text": [
      "Processing c:\\users\\boinit\\python_workspace\\boinit\\tokenizer for math\\mecab_python-0.996_ko_0.9.2_msvc-cp36-cp36m-win_amd64.whl\n",
      "Installing collected packages: mecab-python\n",
      "Successfully installed mecab-python-0.996-ko-0.9.2-msvc\n"
     ]
    }
   ],
   "source": [
    "!pip install mecab_python-0.996_ko_0.9.2_msvc-cp36-cp36m-win_amd64.whl"
   ]
  },
  {
   "cell_type": "code",
   "execution_count": 1,
   "metadata": {},
   "outputs": [],
   "source": [
    "import MeCab"
   ]
  },
  {
   "cell_type": "code",
   "execution_count": 2,
   "metadata": {},
   "outputs": [],
   "source": [
    "m = MeCab.Tagger ('-d C:/mecab/mecab-ko-dic')"
   ]
  },
  {
   "cell_type": "code",
   "execution_count": 23,
   "metadata": {
    "scrolled": true
   },
   "outputs": [
    {
     "name": "stdout",
     "output_type": "stream",
     "text": [
      "다음\tNNG,*,T,다음,*,*,*,*\n",
      "중\tNNB,*,T,중,*,*,*,*\n",
      "변수\tNNG,*,F,변수,*,*,*,*\n",
      "X\tSL,*,*,*,*,*,*,*\n",
      ",\tSC,*,*,*,*,*,*,*\n",
      "y\tSL,*,*,*,*,*,*,*\n",
      ",\tSC,*,*,*,*,*,*,*\n",
      "z\tSL,*,*,*,*,*,*,*\n",
      "를\tJKO,*,T,를,*,*,*,*\n",
      "만족\tNNG,행위,T,만족,*,*,*,*\n",
      "하\tXSV,*,F,하,*,*,*,*\n",
      "는\tETM,*,T,는,*,*,*,*\n",
      "연속하는 세 홀수\tNNP,*,F,연속하는 세 홀수,*,*,*,*,*\n",
      "의\tJKG,*,F,의,*,*,*,*\n",
      "합\tNNG,*,T,합,*,*,*,*\n",
      "은\tJX,*,T,은,*,*,*,*\n",
      "?\tSF,*,*,*,*,*,*,*\n",
      "EOS\n",
      "\n"
     ]
    }
   ],
   "source": [
    "print(m.parse('다음중 변수 X,y,z를 만족하는 연속하는 세 홀수의 합은?'))"
   ]
  },
  {
   "cell_type": "code",
   "execution_count": null,
   "metadata": {},
   "outputs": [],
   "source": []
  },
  {
   "cell_type": "code",
   "execution_count": null,
   "metadata": {},
   "outputs": [],
   "source": []
  },
  {
   "cell_type": "code",
   "execution_count": null,
   "metadata": {},
   "outputs": [],
   "source": []
  },
  {
   "cell_type": "code",
   "execution_count": 10,
   "metadata": {},
   "outputs": [
    {
     "name": "stdout",
     "output_type": "stream",
     "text": [
      "~\tSY,*,*,*,*,*,*,*\n",
      "#\tSY,*,*,*,*,*,*,*\n",
      "%\tSY,*,*,*,*,*,*,*\n",
      "\\\tSY,*,*,*,*,*,*,*\n",
      "#\tSY,*,*,*,*,*,*,*\n",
      "@\tSY,*,*,*,*,*,*,*\n",
      "^\tSY,*,*,*,*,*,*,*\n",
      "&\tSY,*,*,*,*,*,*,*\n",
      "*\tSY,*,*,*,*,*,*,*\n",
      "$\tSY,*,*,*,*,*,*,*\n",
      "12\tSN,*,*,*,*,*,*,*\n",
      "$\tSY,*,*,*,*,*,*,*\n",
      "190\tSN,*,*,*,*,*,*,*\n",
      "\\\tSY,*,*,*,*,*,*,*\n",
      "\u0001\tSY,*,*,*,*,*,*,*\n",
      "90\tSN,*,*,*,*,*,*,*\n",
      "EOS\n",
      "\n"
     ]
    }
   ],
   "source": [
    "print(m.parse('~ # % \\ # @ ^ & * $ 12$ 190\\ \\190'))"
   ]
  },
  {
   "cell_type": "code",
   "execution_count": null,
   "metadata": {},
   "outputs": [],
   "source": []
  }
 ],
 "metadata": {
  "kernelspec": {
   "display_name": "Python 3",
   "language": "python",
   "name": "python3"
  },
  "language_info": {
   "codemirror_mode": {
    "name": "ipython",
    "version": 3
   },
   "file_extension": ".py",
   "mimetype": "text/x-python",
   "name": "python",
   "nbconvert_exporter": "python",
   "pygments_lexer": "ipython3",
   "version": "3.6.10"
  }
 },
 "nbformat": 4,
 "nbformat_minor": 4
}
