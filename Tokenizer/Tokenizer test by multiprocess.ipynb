{
 "cells": [
  {
   "cell_type": "code",
   "execution_count": 1,
   "metadata": {},
   "outputs": [],
   "source": [
    "import multiprocessing\n",
    "import time\n",
    "import pandas as pd\n",
    "from tqdm import tqdm\n",
    "import sys"
   ]
  },
  {
   "cell_type": "code",
   "execution_count": 2,
   "metadata": {},
   "outputs": [],
   "source": [
    "phrase1='경희는 인절미 20개, 가래떡 12개를 가능한 한 많은 접시에 똑같이 나누어 담으려고 할 때, 필요한 접시의 개수는?'"
   ]
  },
  {
   "cell_type": "code",
   "execution_count": 3,
   "metadata": {},
   "outputs": [],
   "source": [
    "from eunjeon import Mecab"
   ]
  },
  {
   "cell_type": "code",
   "execution_count": 8,
   "metadata": {
    "collapsed": true
   },
   "outputs": [
    {
     "name": "stdout",
     "output_type": "stream",
     "text": [
      "0  :  0.0019943714141845703\n",
      "1  :  0.0\n",
      "2  :  0.0\n",
      "3  :  0.0\n",
      "4  :  0.0\n",
      "5  :  0.0\n",
      "6  :  0.0\n",
      "7  :  0.0\n",
      "8  :  0.0\n",
      "9  :  0.0\n",
      "10  :  0.0\n",
      "11  :  0.0\n",
      "12  :  0.0009970664978027344\n",
      "13  :  0.0\n",
      "14  :  0.0\n",
      "15  :  0.0\n",
      "16  :  0.0\n",
      "17  :  0.0\n",
      "18  :  0.0\n",
      "19  :  0.0\n",
      "20  :  0.0\n",
      "21  :  0.0\n",
      "22  :  0.0\n",
      "23  :  0.0\n",
      "24  :  0.0\n",
      "25  :  0.0\n",
      "26  :  0.0\n",
      "27  :  0.0\n",
      "28  :  0.0\n",
      "29  :  0.0\n",
      "30  :  0.0\n",
      "31  :  0.000997304916381836\n",
      "32  :  0.0\n",
      "33  :  0.0\n",
      "34  :  0.0\n",
      "35  :  0.0\n",
      "36  :  0.0\n",
      "37  :  0.0\n",
      "38  :  0.0\n",
      "39  :  0.0009958744049072266\n",
      "40  :  0.0\n",
      "41  :  0.0\n",
      "42  :  0.0\n",
      "43  :  0.0\n",
      "44  :  0.0\n",
      "45  :  0.0\n",
      "46  :  0.0009970664978027344\n",
      "47  :  0.0\n",
      "48  :  0.0\n",
      "49  :  0.0\n",
      "50  :  0.0\n",
      "51  :  0.0\n",
      "52  :  0.0\n",
      "53  :  0.0\n",
      "54  :  0.0\n",
      "55  :  0.0\n",
      "56  :  0.0009984970092773438\n",
      "57  :  0.0\n",
      "58  :  0.0\n",
      "59  :  0.0\n",
      "60  :  0.0\n",
      "61  :  0.0\n",
      "62  :  0.0\n",
      "63  :  0.0009987354278564453\n",
      "64  :  0.0\n",
      "65  :  0.0\n",
      "66  :  0.0\n",
      "67  :  0.0\n",
      "68  :  0.0\n",
      "69  :  0.0\n",
      "70  :  0.0\n",
      "71  :  0.0\n",
      "72  :  0.0009963512420654297\n",
      "73  :  0.0\n",
      "74  :  0.0\n",
      "75  :  0.0\n",
      "76  :  0.0\n",
      "77  :  0.0009980201721191406\n",
      "78  :  0.0\n",
      "79  :  0.0\n",
      "80  :  0.0\n",
      "81  :  0.0\n",
      "82  :  0.0\n",
      "83  :  0.0\n",
      "84  :  0.0\n",
      "85  :  0.0\n",
      "86  :  0.0\n",
      "87  :  0.0\n",
      "88  :  0.0\n",
      "89  :  0.0\n",
      "90  :  0.0\n",
      "91  :  0.0\n",
      "92  :  0.000997304916381836\n",
      "93  :  0.0\n",
      "94  :  0.0\n",
      "95  :  0.0\n",
      "96  :  0.0\n",
      "97  :  0.0\n",
      "98  :  0.0\n",
      "99  :  0.000997304916381836\n"
     ]
    }
   ],
   "source": [
    "#sys.stdout= open('mecab_result_multi.txt','a')\n",
    "instance=Mecab()\n",
    "for i in range(100):\n",
    "    startTime = time.time()\n",
    "    result=instance.pos(phrase1)\n",
    "    print(i,\" : \",time.time() - startTime)\n",
    "    "
   ]
  },
  {
   "cell_type": "code",
   "execution_count": 4,
   "metadata": {},
   "outputs": [],
   "source": [
    "def test(num) :\n",
    "    #sys.stdout= open('mecab_result_multi.txt','a')\n",
    "    instance=Mecab()\n",
    "    for i in range(100):\n",
    "        startTime = time.time()\n",
    "        result=instance.pos(phrase1)\n",
    "        print(num,\" : \",time.time() - startTime)"
   ]
  },
  {
   "cell_type": "code",
   "execution_count": 5,
   "metadata": {},
   "outputs": [],
   "source": [
    "num_list=['p1','p2','p3','p4']    "
   ]
  },
  {
   "cell_type": "code",
   "execution_count": null,
   "metadata": {},
   "outputs": [],
   "source": [
    "if __name__ == \"__main__\":\n",
    "    \n",
    "    pool = multiprocessing.Pool(processes=4)\n",
    "    pool.map(test,num_list)\n",
    "    pool.close()\n",
    "    pool.join()"
   ]
  },
  {
   "cell_type": "code",
   "execution_count": null,
   "metadata": {},
   "outputs": [],
   "source": [
    "import multiprocessing\n",
    "import time\n",
    "\n",
    "start_time = time.time()\n",
    "\n",
    "def count(name):\n",
    "    for i in range(1,50001):\n",
    "        print(name,\" : \",i)\n",
    "        \n",
    "num_list = ['p1','p2','p3','p4']\n",
    "\n",
    "if __name__ == '__main__':\n",
    "    pool = multiprocessing.Pool(processes=2)\n",
    "    pool.map(count,num_list)\n",
    "    pool.close()\n",
    "    pool.join()\n",
    "\n",
    "print(\"---%s seconds ---\" % (time.time() - start_time))"
   ]
  },
  {
   "cell_type": "code",
   "execution_count": null,
   "metadata": {},
   "outputs": [],
   "source": []
  }
 ],
 "metadata": {
  "kernelspec": {
   "display_name": "Python 3",
   "language": "python",
   "name": "python3"
  },
  "language_info": {
   "codemirror_mode": {
    "name": "ipython",
    "version": 3
   },
   "file_extension": ".py",
   "mimetype": "text/x-python",
   "name": "python",
   "nbconvert_exporter": "python",
   "pygments_lexer": "ipython3",
   "version": "3.6.10"
  }
 },
 "nbformat": 4,
 "nbformat_minor": 4
}
