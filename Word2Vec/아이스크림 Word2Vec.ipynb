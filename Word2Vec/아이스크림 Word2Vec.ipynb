{
 "cells": [
  {
   "cell_type": "markdown",
   "metadata": {},
   "source": [
    "## DB접속 & 데이터 저장"
   ]
  },
  {
   "cell_type": "code",
   "execution_count": 1,
   "metadata": {},
   "outputs": [],
   "source": [
    "import pymysql\n",
    "\n",
    "# Mysql DB 접속\n",
    "iscream_questions = pymysql.connect(\n",
    "    user='root', \n",
    "    passwd='', \n",
    "    host='192.168.1.30', \n",
    "    db='iscream_questions', \n",
    "    charset='utf8'\n",
    ")\n",
    "\n",
    "cursor = iscream_questions.cursor(pymysql.cursors.DictCursor)\n",
    "\n",
    "sql = \"SELECT question_id, body_html, list_html, explanation_html FROM questions_78786\\\n",
    "        UNION\\\n",
    "        SELECT question_id, body_html, list_html, explanation_html FROM questions_120562 WHERE etc_category1 LIKE '%중학교 1학년%'\\\n",
    "        UNION\\\n",
    "        SELECT question_id, body_html, list_html, explanation_html FROM questions_120562 WHERE etc_category1 LIKE '%중학교 2학년%'\\\n",
    "        UNION\\\n",
    "        SELECT question_id, body_html, list_html, explanation_html FROM questions_120562 WHERE etc_category1 LIKE '%중학교 3학년%'\\\n",
    "        UNION\\\n",
    "        SELECT question_id, body_html, list_html, explanation_html FROM questions_120562 WHERE etc_category1='이관' AND body_title_html NOT regexp('①|더미')\"\n",
    "\n",
    "cursor.execute(sql)\n",
    "mysql_result = cursor.fetchall()\n",
    "\n",
    "question_id_list = []\n",
    "body_html_list = []\n",
    "list_html_list = []\n",
    "explanation_html_list = []\n",
    "\n",
    "for i in mysql_result:\n",
    "    question_id_list.append(i['question_id'])\n",
    "    body_html_list.append(i['body_html'])\n",
    "    list_html_list.append(i['list_html'])\n",
    "    explanation_html_list.append(i['explanation_html'])\n",
    "    \n",
    "# print(question_id_list)\n",
    "# print(body_html_list)\n",
    "# print(list_html_list)\n",
    "# print(explanation_html_list)"
   ]
  },
  {
   "cell_type": "code",
   "execution_count": 2,
   "metadata": {
    "scrolled": true
   },
   "outputs": [
    {
     "name": "stdout",
     "output_type": "stream",
     "text": [
      "103429\n"
     ]
    }
   ],
   "source": [
    "print(len(body_html_list))"
   ]
  },
  {
   "cell_type": "markdown",
   "metadata": {},
   "source": [
    "## 테이블 포함된 문항 체크"
   ]
  },
  {
   "cell_type": "code",
   "execution_count": null,
   "metadata": {},
   "outputs": [],
   "source": [
    "# import re\n",
    "\n",
    "# tr_list = []\n",
    "# for i in range(len(body_html_list)):\n",
    "#     a = re.search(\"<tr>\", body_html_list[i])\n",
    "#     if a!=None:\n",
    "#         tr_list.append(i)\n",
    "\n",
    "# # len(tr_list)\n",
    "# # tr_list"
   ]
  },
  {
   "cell_type": "markdown",
   "metadata": {},
   "source": [
    "## 제거문항 인덱스 합치기"
   ]
  },
  {
   "cell_type": "code",
   "execution_count": null,
   "metadata": {},
   "outputs": [],
   "source": [
    "# remove_list = list(set(tr_list + scoring_list))\n",
    "\n",
    "# len(remove_list)"
   ]
  },
  {
   "cell_type": "markdown",
   "metadata": {},
   "source": [
    "## HTML 태그 제거"
   ]
  },
  {
   "cell_type": "code",
   "execution_count": 2,
   "metadata": {},
   "outputs": [],
   "source": [
    "# html 태그 제거\n",
    "def removetag(list_name):\n",
    "    \n",
    "    import re\n",
    "    \n",
    "    list_modify = []\n",
    "    for i in range(len(list_name)):\n",
    "        list_name[i]=re.sub('<.+?>', '', list_name[i], 0).strip()\n",
    "        list_name[i] = list_name[i].replace(\"$$\", \"\")\n",
    "        list_name[i] = list_name[i].replace(\"\\\\hspace{1.2pt}\", \"\")\n",
    "        list_name[i] = list_name[i].replace(\"&nbsp;\", \"\")\n",
    "        list_name[i] = list_name[i].replace(\"[#NO#]\", \"\")\n",
    "        list_name[i] = list_name[i].replace(\"\\n\", \"\")\n",
    "        list_name[i] = list_name[i].replace(\"\\t\", \"\")\n",
    "        list_name[i] = list_name[i].replace(\"&lt;\", \" \")\n",
    "        list_name[i] = list_name[i].replace(\"&gt;\", \" \")\n",
    "        list_name[i] = list_name[i].replace(\"•\", \"\")\n",
    "        list_name[i] = list_name[i].replace(\"\\r\", \"\")\n",
    "        list_name[i] = list_name[i].replace(\"　\", \"\") # \\u3000 제거\n",
    "        list_name[i] = list_name[i].replace(\"문제시작/\", \"\")\n",
    "        list_name[i] = list_name[i].replace(\"해설시작/\", \"\")\n",
    "#         list_name[i] = list_name[i].replace(\"■▣\", \"\")\n",
    "#         list_name[i] = list_name[i].replace(\"\", \"\")\n",
    "        list_name[i] = list_name[i].strip()\n",
    "        \n",
    "        # 배점, 채점기준 내용 제거\n",
    "        a = re.search(\"배점\", list_name[i])\n",
    "        if a!=None:\n",
    "            list_name[i] = list_name[i].split(\"배점\")[0]\n",
    "        \n",
    "        list_modify.append(list_name[i])\n",
    "    \n",
    "    return list_modify\n",
    "\n",
    "body_html_list_modify = removetag(body_html_list)\n",
    "list_html_list_modify = removetag(list_html_list)\n",
    "explanation_html_list_modify = removetag(explanation_html_list)\n",
    "\n",
    "# body_html_list_modify\n",
    "# list_html_list_modify\n",
    "# explanation_html_list_modify"
   ]
  },
  {
   "cell_type": "markdown",
   "metadata": {},
   "source": [
    "## 텍스트 파일로 저장"
   ]
  },
  {
   "cell_type": "code",
   "execution_count": 5,
   "metadata": {},
   "outputs": [],
   "source": [
    "# txt파일 생성\n",
    "def createtxt(list_name):\n",
    "    \n",
    "    import datetime\n",
    "    \n",
    "    basename = \"createtxt\"\n",
    "    suffix = datetime.datetime.now().strftime(\"%y%m%d_%H%M%S\")\n",
    "    filename = \"_\".join([basename, suffix])\n",
    "    \n",
    "    f = open('{}.txt'.format(filename), 'w', encoding='utf-8')\n",
    "    \n",
    "    for i in range(len(list_name)):\n",
    "        f.write('%s\\n' %list_name[i])\n",
    "    f.close()\n",
    "\n",
    "# createtxt(body_html_list_modify)\n",
    "# createtxt(list_html_list_modify)\n",
    "# createtxt(explanation_html_list_modify)"
   ]
  },
  {
   "cell_type": "markdown",
   "metadata": {},
   "source": [
    "## 문항 제거"
   ]
  },
  {
   "cell_type": "code",
   "execution_count": null,
   "metadata": {},
   "outputs": [],
   "source": [
    "total_list_removed = []\n",
    "\n",
    "for i in range(len(total_list)):\n",
    "    \n",
    "    if i in remove_list:\n",
    "        continue\n",
    "    total_list_removed.append(total_list[i])\n",
    "    \n",
    "print(len(total_list_removed))"
   ]
  },
  {
   "cell_type": "markdown",
   "metadata": {},
   "source": [
    "## 텍스트에서 데이터 불러오기(테그 제거 완료)"
   ]
  },
  {
   "cell_type": "code",
   "execution_count": 3,
   "metadata": {},
   "outputs": [],
   "source": [
    "# body_html_list_modify = []\n",
    "# list_html_list_modify = []\n",
    "# explanation_html_list_modify = []\n",
    "\n",
    "# with open(\"./questions/body_html.txt\", mode = 'r', encoding='UTF-8') as f:\n",
    "#     for line in f:\n",
    "#         body_html_list_modify.append(line)\n",
    "\n",
    "# f.close()\n",
    "\n",
    "# with open(\"./questions/list_html.txt\", mode = 'r', encoding='UTF-8') as f:\n",
    "#     for line in f:\n",
    "#         list_html_list_modify.append(line)\n",
    "\n",
    "# f.close()\n",
    "\n",
    "# with open(\"./questions/explanation_html.txt\", mode = 'r', encoding='UTF-8') as f:\n",
    "#     for line in f:\n",
    "#         explanation_html_list_modify.append(line)\n",
    "\n",
    "# f.close()"
   ]
  },
  {
   "cell_type": "markdown",
   "metadata": {},
   "source": [
    "## 문제, 선지, 해설 합치기"
   ]
  },
  {
   "cell_type": "code",
   "execution_count": 3,
   "metadata": {},
   "outputs": [
    {
     "name": "stdout",
     "output_type": "stream",
     "text": [
      "103429\n"
     ]
    }
   ],
   "source": [
    "total_list = []\n",
    "\n",
    "for i in range(len(body_html_list_modify)):\n",
    "    total_list.append(body_html_list_modify[i] + \" \" + list_html_list_modify[i] + \" \" + explanation_html_list_modify[i])\n",
    "\n",
    "print(len(total_list))"
   ]
  },
  {
   "cell_type": "code",
   "execution_count": 4,
   "metadata": {},
   "outputs": [],
   "source": [
    "total_list_removed = total_list"
   ]
  },
  {
   "cell_type": "markdown",
   "metadata": {},
   "source": [
    "## MeCab - 특정 태그 저장"
   ]
  },
  {
   "cell_type": "code",
   "execution_count": 5,
   "metadata": {
    "scrolled": true
   },
   "outputs": [
    {
     "name": "stderr",
     "output_type": "stream",
     "text": [
      "100%|██████████████████████████████████████████████████████████████████████████████████| 103429/103429 [00:25<00:00, 4023.96it/s]\n"
     ]
    },
    {
     "data": {
      "text/plain": [
       "103429"
      ]
     },
     "execution_count": 5,
     "metadata": {},
     "output_type": "execute_result"
    }
   ],
   "source": [
    "import time\n",
    "from tqdm import tqdm\n",
    "import random\n",
    "import MeCab\n",
    "\n",
    "init_result = []\n",
    "# init_no_result = []\n",
    "result = []\n",
    "# no_result = []\n",
    "\n",
    "t = MeCab.Tagger ('-d C:/mecab/mecab-ko-dic')\n",
    "\n",
    "for j in tqdm(range(len(total_list_removed))):\n",
    "    sentence = total_list_removed[j]\n",
    "    tokenlist=t.parse(sentence)\n",
    "\n",
    "    m = tokenlist.split(\"\\n\")\n",
    "    m.remove('')\n",
    "    m.remove('EOS')\n",
    "\n",
    "    word_list = []\n",
    "#     pumsa_list = []\n",
    "    for i in range(len(m)):\n",
    "        m1 = m[i].split('\\t')[0]\n",
    "        m2 = m[i].split('\\t')[1].split(',')[0]\n",
    "\n",
    "        if m2 in [\"NNG\",\"NNP\"]:\n",
    "            word_list.append(m1)\n",
    "#             pumsa_list.append(m2)\n",
    "    if word_list:\n",
    "        result.append(word_list)\n",
    "        init_result.append(total_list_removed[j])\n",
    "    if not word_list:\n",
    "        result.append(' ')\n",
    "        init_result.append(total_list_removed[j])\n",
    "\n",
    "len(result)"
   ]
  },
  {
   "cell_type": "code",
   "execution_count": 8,
   "metadata": {},
   "outputs": [
    {
     "data": {
      "text/plain": [
       "'두 이차방정식   ( {x}  -  {1} ) ( {x}  -  {2} )  =  0,  ( {x}  -  {2} ) ( {x}  -  {3} )  =  {0}  을모두 만족시키는   {x}   의 값은? {2}    {3} ( {x}  -  {1} ) ( {x}  -  {2} )  =  {0}  의 근 :   {x}  =  {1}   또는   {x}  =  {2}    ( {x}  -  {2} ) ( {x}  -  {3} )  =  {0}  의 근 :   {x}  =  {2}   또는   {x}  =  {3}  따라서 두 방정식을 모두 만족시키는   {x}   의 값은 공통으로 만족하는   {x}  =  {2}'"
      ]
     },
     "execution_count": 8,
     "metadata": {},
     "output_type": "execute_result"
    }
   ],
   "source": [
    "result[61360]\n",
    "init_result[61360]\n",
    "# for i in range(len(no_result)):\n",
    "#     print(total_list_removed[no_result[i]])"
   ]
  },
  {
   "cell_type": "markdown",
   "metadata": {},
   "source": [
    "## 원본 문항에서 특정 단어 포함하는 인덱스 찾기"
   ]
  },
  {
   "cell_type": "code",
   "execution_count": 8,
   "metadata": {
    "scrolled": true
   },
   "outputs": [
    {
     "name": "stdout",
     "output_type": "stream",
     "text": [
      "1443\n",
      "1443\n"
     ]
    }
   ],
   "source": [
    "text = \"일차방정식\"\n",
    "spec_index_list_ori = []\n",
    "spec_index_list = []\n",
    "for i in range(len(total_list_removed)):\n",
    "    if text in total_list_removed[i]:\n",
    "        spec_index_list_ori.append(i)\n",
    "print(len(spec_index_list_ori))\n",
    "for i in range(len(result)):\n",
    "    if text in result[i]:\n",
    "        spec_index_list.append(i)\n",
    "print(len(spec_index_list))\n",
    "for i in range(len(spec_index_list_ori)):\n",
    "    if spec_index_list_ori[i] not in spec_index_list:\n",
    "        print(spec_index_list_ori[i])\n",
    "        "
   ]
  },
  {
   "cell_type": "markdown",
   "metadata": {},
   "source": [
    "## 테스트 - 특정 문항 태그분석"
   ]
  },
  {
   "cell_type": "code",
   "execution_count": 9,
   "metadata": {
    "collapsed": true
   },
   "outputs": [
    {
     "data": {
      "text/plain": [
       "['두 : MM',\n",
       " '이차방정식 : NNP',\n",
       " '( : SSO',\n",
       " '{ : SY',\n",
       " 'x : SL',\n",
       " '} : SY',\n",
       " '- : SY',\n",
       " '{ : SY',\n",
       " '1 : SN',\n",
       " '} : SY',\n",
       " ') : SY',\n",
       " '( : SY',\n",
       " '{ : SY',\n",
       " 'x : SL',\n",
       " '} : SY',\n",
       " '- : SY',\n",
       " '{ : SY',\n",
       " '2 : SN',\n",
       " '} : SY',\n",
       " ') : SY',\n",
       " '= : SY',\n",
       " '0 : SN',\n",
       " ', : SC',\n",
       " '( : SY',\n",
       " '{ : SY',\n",
       " 'x : SL',\n",
       " '} : SY',\n",
       " '- : SY',\n",
       " '{ : SY',\n",
       " '2 : SN',\n",
       " '} : SY',\n",
       " ') : SY',\n",
       " '( : SY',\n",
       " '{ : SY',\n",
       " 'x : SL',\n",
       " '} : SY',\n",
       " '- : SY',\n",
       " '{ : SY',\n",
       " '3 : SN',\n",
       " '} : SY',\n",
       " ') : SY',\n",
       " '= : SY',\n",
       " '{ : SY',\n",
       " '0 : SN',\n",
       " '} : SY',\n",
       " '을 : JKO',\n",
       " '모두 : MAG',\n",
       " '만족 : NNG',\n",
       " '시키 : XSV',\n",
       " '는 : ETM',\n",
       " '{ : SY',\n",
       " 'x : SL',\n",
       " '} : SY',\n",
       " '의 : NNG',\n",
       " '값 : NNG',\n",
       " '은 : JX',\n",
       " '? : SY',\n",
       " '{ : SY',\n",
       " '2 : SN',\n",
       " '} : SY',\n",
       " '{ : SY',\n",
       " '3 : SN',\n",
       " '} : SY',\n",
       " '( : SY',\n",
       " '{ : SY',\n",
       " 'x : SL',\n",
       " '} : SY',\n",
       " '- : SY',\n",
       " '{ : SY',\n",
       " '1 : SN',\n",
       " '} : SY',\n",
       " ') : SY',\n",
       " '( : SY',\n",
       " '{ : SY',\n",
       " 'x : SL',\n",
       " '} : SY',\n",
       " '- : SY',\n",
       " '{ : SY',\n",
       " '2 : SN',\n",
       " '} : SY',\n",
       " ') : SY',\n",
       " '= : SY',\n",
       " '{ : SY',\n",
       " '0 : SN',\n",
       " '} : SY',\n",
       " '의 : NNG',\n",
       " '근 : NNG',\n",
       " ': : SC',\n",
       " '{ : SY',\n",
       " 'x : SL',\n",
       " '} : SY',\n",
       " '= : SY',\n",
       " '{ : SY',\n",
       " '1 : SN',\n",
       " '} : SY',\n",
       " '또는 : MAJ',\n",
       " '{ : SY',\n",
       " 'x : SL',\n",
       " '} : SY',\n",
       " '= : SY',\n",
       " '{ : SY',\n",
       " '2 : SN',\n",
       " '} : SY',\n",
       " '( : SY',\n",
       " '{ : SY',\n",
       " 'x : SL',\n",
       " '} : SY',\n",
       " '- : SY',\n",
       " '{ : SY',\n",
       " '2 : SN',\n",
       " '} : SY',\n",
       " ') : SY',\n",
       " '( : SY',\n",
       " '{ : SY',\n",
       " 'x : SL',\n",
       " '} : SY',\n",
       " '- : SY',\n",
       " '{ : SY',\n",
       " '3 : SN',\n",
       " '} : SY',\n",
       " ') : SY',\n",
       " '= : SY',\n",
       " '{ : SY',\n",
       " '0 : SN',\n",
       " '} : SY',\n",
       " '의 : NNG',\n",
       " '근 : NNG',\n",
       " ': : SC',\n",
       " '{ : SY',\n",
       " 'x : SL',\n",
       " '} : SY',\n",
       " '= : SY',\n",
       " '{ : SY',\n",
       " '2 : SN',\n",
       " '} : SY',\n",
       " '또는 : MAJ',\n",
       " '{ : SY',\n",
       " 'x : SL',\n",
       " '} : SY',\n",
       " '= : SY',\n",
       " '{ : SY',\n",
       " '3 : SN',\n",
       " '} : SY',\n",
       " '따라서 : MAJ',\n",
       " '두 : MM',\n",
       " '방정식 : NNG',\n",
       " '을 : JKO',\n",
       " '모두 : MAG',\n",
       " '만족 : NNG',\n",
       " '시키 : XSV',\n",
       " '는 : ETM',\n",
       " '{ : SY',\n",
       " 'x : SL',\n",
       " '} : SY',\n",
       " '의 : NNG',\n",
       " '값 : NNG',\n",
       " '은 : JX',\n",
       " '공통 : NNG',\n",
       " '으로 : JKB',\n",
       " '만족 : NNG',\n",
       " '하 : XSV',\n",
       " '는 : ETM',\n",
       " '{ : SY',\n",
       " 'x : SL',\n",
       " '} : SY',\n",
       " '= : SY',\n",
       " '{ : SY',\n",
       " '2 : SN',\n",
       " '} : SY']"
      ]
     },
     "execution_count": 9,
     "metadata": {},
     "output_type": "execute_result"
    }
   ],
   "source": [
    "import time\n",
    "from tqdm import tqdm\n",
    "import random\n",
    "import MeCab\n",
    "\n",
    "# phrase = random.sample(total_list_removed,1)\n",
    "phrase = total_list_removed[61360]\n",
    "# phrase = \"이차방정식을 계산한 것입니다.\"\n",
    "\n",
    "t = MeCab.Tagger ('-d C:/mecab/mecab-ko-dic')\n",
    "tokenlist=t.parse(phrase)\n",
    "\n",
    "m = tokenlist.split(\"\\n\")\n",
    "m.remove('')\n",
    "m.remove('EOS')\n",
    "\n",
    "result_one = []\n",
    "for i in range(len(m)):\n",
    "    m1 = m[i].split('\\t')[0]\n",
    "    m2 = m[i].split('\\t')[1].split(',')[0]\n",
    "    m3 = m1 + \" : \" + m2\n",
    "    result_one.append(m3)\n",
    "    \n",
    "result_one"
   ]
  },
  {
   "cell_type": "markdown",
   "metadata": {},
   "source": [
    "### eunjeon mecab"
   ]
  },
  {
   "cell_type": "code",
   "execution_count": null,
   "metadata": {
    "scrolled": false
   },
   "outputs": [],
   "source": [
    "# import time\n",
    "# from tqdm import tqdm\n",
    "# import random\n",
    "\n",
    "# sentence = total_list_remove_table\n",
    "\n",
    "# from eunjeon import mecab\n",
    "\n",
    "# result = []\n",
    "\n",
    "# start_time = time.time()\n",
    "\n",
    "# for i in tqdm(range(len(sentence))):\n",
    "    \n",
    "#     input_str = sentence[i]\n",
    "#     tokenlist=t.parse(sentence)\n",
    "    \n",
    "#     temp=[]\n",
    "#     for word in tokenlist:\n",
    "#         if word[1] in [\"NNP\",\"NNG\"]: \n",
    "#             temp.append((word[0]))\n",
    "    \n",
    "#     if temp: # 이번에 읽은 데이터에 명사가 존재할 경우에만\n",
    "#         result.append(temp) # 결과에 저장\n",
    "\n",
    "# end_time = time.time()\n",
    "# print(end_time - start_time)"
   ]
  },
  {
   "cell_type": "markdown",
   "metadata": {},
   "source": [
    "## 텍스트 파일로 결과 저장"
   ]
  },
  {
   "cell_type": "code",
   "execution_count": null,
   "metadata": {},
   "outputs": [],
   "source": [
    "def write_txt(list, fname, sep):\n",
    "    file = open(fname, 'w', encoding='UTF-8')\n",
    "    vstr = \"\"\n",
    "    \n",
    "    for i in list:\n",
    "        for j in i:\n",
    "            vstr = vstr + str(j) + sep\n",
    "        vstr = vstr.rstrip(sep) # 마지막에 추가되는 sep 삭제\n",
    "        vstr = vstr + '\\n'\n",
    "\n",
    "    file.writelines(vstr) # 한 라인씩 저장\n",
    "    \n",
    "    file.close()\n",
    "    \n",
    "# result_1000 = random.sample(result,1000)\n",
    "# write_txt(result_1000, \"result_1000_VA.txt\", \",\")"
   ]
  },
  {
   "cell_type": "markdown",
   "metadata": {},
   "source": [
    "## 모델 생성"
   ]
  },
  {
   "cell_type": "code",
   "execution_count": null,
   "metadata": {},
   "outputs": [],
   "source": [
    "# import logging\n",
    "\n",
    "# logging.basicConfig(\n",
    "#     format='%(asctime)s - %(levelname)s - %(message)s', \n",
    "#     level=logging.INFO)"
   ]
  },
  {
   "cell_type": "code",
   "execution_count": 10,
   "metadata": {},
   "outputs": [],
   "source": [
    "from gensim.models import Word2Vec\n",
    "\n",
    "model = Word2Vec(result, \n",
    "                 size=85,          # 차원\n",
    "                 window=5,         # 앞뒤 고려 단어수\n",
    "                 min_count=10,     # 최소 중복 개수\n",
    "                 workers=4,        # CPU 코어\n",
    "                 sg=1,             # CBOW / Skip-Gram\n",
    "                 iter = 5,         # iteration\n",
    "                 sample = 0.001)   # 빈번하게 등장하는 단어 다운샘플링\n",
    "\n",
    "model.init_sims(replace=True)"
   ]
  },
  {
   "cell_type": "code",
   "execution_count": 9,
   "metadata": {},
   "outputs": [
    {
     "ename": "NameError",
     "evalue": "name 'model' is not defined",
     "output_type": "error",
     "traceback": [
      "\u001b[1;31m---------------------------------------------------------------------------\u001b[0m",
      "\u001b[1;31mNameError\u001b[0m                                 Traceback (most recent call last)",
      "\u001b[1;32m<ipython-input-9-076c198f386f>\u001b[0m in \u001b[0;36m<module>\u001b[1;34m\u001b[0m\n\u001b[1;32m----> 1\u001b[1;33m \u001b[0mmodel\u001b[0m\u001b[1;33m.\u001b[0m\u001b[0mwv\u001b[0m\u001b[1;33m.\u001b[0m\u001b[0mget_vector\u001b[0m\u001b[1;33m(\u001b[0m\u001b[1;34m'테스트'\u001b[0m\u001b[1;33m)\u001b[0m\u001b[1;33m\u001b[0m\u001b[1;33m\u001b[0m\u001b[0m\n\u001b[0m",
      "\u001b[1;31mNameError\u001b[0m: name 'model' is not defined"
     ]
    }
   ],
   "source": [
    "model.wv.get_vector('테스트')"
   ]
  },
  {
   "cell_type": "code",
   "execution_count": 11,
   "metadata": {},
   "outputs": [
    {
     "data": {
      "text/plain": [
       "[('근', 0.8845056295394897),\n",
       " ('중근', 0.8666121363639832),\n",
       " ('근일', 0.8510861396789551),\n",
       " ('판별식', 0.7983155846595764),\n",
       " ('전개식', 0.7656952142715454)]"
      ]
     },
     "execution_count": 11,
     "metadata": {},
     "output_type": "execute_result"
    }
   ],
   "source": [
    "model.wv.most_similar(positive=\"이차방정식\", topn=5)"
   ]
  },
  {
   "cell_type": "code",
   "execution_count": 12,
   "metadata": {},
   "outputs": [
    {
     "data": {
      "text/plain": [
       "['분수',\n",
       " '소수',\n",
       " '안',\n",
       " '분모',\n",
       " '인',\n",
       " '후',\n",
       " '기약분수',\n",
       " '자리',\n",
       " '수',\n",
       " '분자',\n",
       " '최대공약수',\n",
       " '기호',\n",
       " '크기',\n",
       " '비교',\n",
       " '다음',\n",
       " '소윤',\n",
       " '석이',\n",
       " '말',\n",
       " '조건',\n",
       " '만족',\n",
       " '지민',\n",
       " '규',\n",
       " '눈금',\n",
       " '칸',\n",
       " '오른쪽',\n",
       " '왼쪽',\n",
       " '곳',\n",
       " '선',\n",
       " '때',\n",
       " '소수점',\n",
       " '아래',\n",
       " '자릿수',\n",
       " '답',\n",
       " '어머니',\n",
       " '고구마',\n",
       " '양',\n",
       " '서현',\n",
       " '우유',\n",
       " '지형',\n",
       " '사과',\n",
       " '주스',\n",
       " '지성',\n",
       " '아침',\n",
       " '거리',\n",
       " '직사각',\n",
       " '가로',\n",
       " '세로',\n",
       " '길이',\n",
       " '윤주',\n",
       " '하루',\n",
       " '동안',\n",
       " '물',\n",
       " '과',\n",
       " '사이',\n",
       " '자연수',\n",
       " '막대',\n",
       " '순서',\n",
       " '이면',\n",
       " '셈식',\n",
       " '곱',\n",
       " '색칠',\n",
       " '부분',\n",
       " '계산',\n",
       " '방법',\n",
       " '곱셈',\n",
       " '이용',\n",
       " '위치',\n",
       " '결과',\n",
       " '무게',\n",
       " '책',\n",
       " '평행사변형',\n",
       " '넓이',\n",
       " '밑변',\n",
       " '높이',\n",
       " '변이',\n",
       " '정사각형',\n",
       " '둘레',\n",
       " '변',\n",
       " '선우',\n",
       " '몸무게',\n",
       " '아빠',\n",
       " '배',\n",
       " '유라',\n",
       " '오빠',\n",
       " '수돗물',\n",
       " '시간',\n",
       " '다희',\n",
       " '미소',\n",
       " '날',\n",
       " '효',\n",
       " '부모',\n",
       " '여행',\n",
       " '건물',\n",
       " '층',\n",
       " '층수',\n",
       " '숫자',\n",
       " '카드',\n",
       " '사용',\n",
       " '나머지',\n",
       " '그림',\n",
       " '색',\n",
       " '테이프',\n",
       " '전체',\n",
       " '합',\n",
       " '가격',\n",
       " '얼마',\n",
       " '원',\n",
       " '직사각형',\n",
       " '페트병',\n",
       " '주전자',\n",
       " '냉장고',\n",
       " '당근',\n",
       " '포도',\n",
       " '진호',\n",
       " '집',\n",
       " '앞',\n",
       " '텃밭',\n",
       " '시작',\n",
       " '설명',\n",
       " '연주',\n",
       " '만세',\n",
       " '은지',\n",
       " '버스',\n",
       " '빠르기',\n",
       " '반',\n",
       " '자동차',\n",
       " '차례',\n",
       " '키',\n",
       " '예진',\n",
       " '보람',\n",
       " '학생',\n",
       " '안경',\n",
       " '명',\n",
       " '수진',\n",
       " '식이',\n",
       " '생각',\n",
       " '이동',\n",
       " '관계',\n",
       " '상자',\n",
       " '자두',\n",
       " '트럭',\n",
       " '금',\n",
       " '돈',\n",
       " '단추',\n",
       " '사랑',\n",
       " '서준',\n",
       " '구슬',\n",
       " '형',\n",
       " '철근',\n",
       " '표',\n",
       " '완성',\n",
       " '소금물',\n",
       " '소금',\n",
       " '혜진',\n",
       " '밀가루',\n",
       " '쿠키',\n",
       " '처음',\n",
       " '민서',\n",
       " '사람',\n",
       " '준서',\n",
       " '아버지',\n",
       " '민주',\n",
       " '바퀴',\n",
       " '가와',\n",
       " '가의',\n",
       " '모양',\n",
       " '타일',\n",
       " '개수',\n",
       " '철사',\n",
       " '나비',\n",
       " '개',\n",
       " '공약수',\n",
       " '경우',\n",
       " '일정',\n",
       " '속도',\n",
       " '동시',\n",
       " '출발',\n",
       " '방향',\n",
       " '차이',\n",
       " '공장',\n",
       " '생산',\n",
       " '값',\n",
       " '색종이',\n",
       " '종이',\n",
       " '가로의 길이',\n",
       " '세로의 길이',\n",
       " '도형',\n",
       " '기차',\n",
       " '터널',\n",
       " '통과',\n",
       " '병',\n",
       " '의',\n",
       " '밭',\n",
       " '염색약',\n",
       " '수조',\n",
       " '양은',\n",
       " '끝',\n",
       " '경수',\n",
       " '걸음',\n",
       " '폭',\n",
       " '창호',\n",
       " '가로수',\n",
       " '나무',\n",
       " '두께',\n",
       " '간격',\n",
       " '을',\n",
       " '일',\n",
       " '승용차',\n",
       " '휘발유',\n",
       " '소비',\n",
       " '필요',\n",
       " '소리',\n",
       " '공기',\n",
       " '번개',\n",
       " '천둥',\n",
       " '빛',\n",
       " '뒤',\n",
       " '수인',\n",
       " '공책',\n",
       " '수박',\n",
       " '가방',\n",
       " '상수',\n",
       " '승현',\n",
       " '물고기',\n",
       " '미주',\n",
       " '달팽이',\n",
       " '수영',\n",
       " '윤경',\n",
       " '난로',\n",
       " '석유',\n",
       " '기계',\n",
       " '동현',\n",
       " '차',\n",
       " '무',\n",
       " '양파',\n",
       " '풀',\n",
       " '과정',\n",
       " '문제',\n",
       " '해결',\n",
       " '바닥',\n",
       " '면',\n",
       " '사각형',\n",
       " '대한',\n",
       " '민국',\n",
       " '대한민국',\n",
       " '희망',\n",
       " '미래',\n",
       " '남',\n",
       " '셉',\n",
       " '이상',\n",
       " '수와',\n",
       " '예준',\n",
       " '준이',\n",
       " '정육면체',\n",
       " '바깥쪽',\n",
       " '위',\n",
       " '옆',\n",
       " '주현',\n",
       " '한 변의 길이',\n",
       " '영호',\n",
       " '겉면',\n",
       " '민지',\n",
       " '정진이',\n",
       " '모서리',\n",
       " '겉넓이',\n",
       " '연결',\n",
       " '큐브',\n",
       " '민희',\n",
       " '라',\n",
       " '민수',\n",
       " '가지',\n",
       " '지희',\n",
       " '아름',\n",
       " '유찬',\n",
       " '주희',\n",
       " '밑면',\n",
       " '꼭짓점',\n",
       " '의미',\n",
       " '파란색',\n",
       " '줄',\n",
       " '최대',\n",
       " '최소',\n",
       " '세어',\n",
       " '직육면체',\n",
       " '표시',\n",
       " '포함',\n",
       " '빨간색',\n",
       " 'ㄷ',\n",
       " '양쪽',\n",
       " '규칙',\n",
       " '놓',\n",
       " '최대일',\n",
       " '소일',\n",
       " '노란색',\n",
       " '칠',\n",
       " '면도',\n",
       " '밖',\n",
       " '합동',\n",
       " '대응점',\n",
       " '대응변',\n",
       " '각',\n",
       " '대응각',\n",
       " '삼각형',\n",
       " '오각형',\n",
       " 'ㄱ',\n",
       " 'ㄴ',\n",
       " 'ㅂ',\n",
       " 'ㅁ',\n",
       " 'ㄹ',\n",
       " 'ㅅ',\n",
       " '직각삼각형',\n",
       " '마름모',\n",
       " '이등변',\n",
       " '정삼각형',\n",
       " '사다리꼴',\n",
       " '자',\n",
       " '각도기',\n",
       " '선분',\n",
       " '점',\n",
       " '선대칭도형',\n",
       " '직선',\n",
       " '대칭축',\n",
       " '점대칭',\n",
       " '중심',\n",
       " '변의',\n",
       " '대칭',\n",
       " '길',\n",
       " '범위',\n",
       " '이유',\n",
       " '일부분',\n",
       " '쌍',\n",
       " '수직',\n",
       " '각각',\n",
       " '이등분',\n",
       " '다와',\n",
       " '물음',\n",
       " '임',\n",
       " '각이',\n",
       " 'ㅈ',\n",
       " '반지름',\n",
       " '비',\n",
       " '전항',\n",
       " '후항',\n",
       " '항',\n",
       " '성질',\n",
       " '비율',\n",
       " '공통',\n",
       " '비례식',\n",
       " '외항',\n",
       " '내항',\n",
       " '비례',\n",
       " '배분',\n",
       " '에서',\n",
       " '상희',\n",
       " '동생',\n",
       " '권',\n",
       " '윤서',\n",
       " '수도',\n",
       " '들이',\n",
       " '욕조',\n",
       " '평행',\n",
       " '평행선',\n",
       " '날수',\n",
       " '며칠',\n",
       " '달',\n",
       " '끈',\n",
       " '윤비',\n",
       " '민',\n",
       " '저금',\n",
       " '이자',\n",
       " '금액',\n",
       " '유선',\n",
       " '시계',\n",
       " '오전',\n",
       " '시각',\n",
       " '분',\n",
       " '학년',\n",
       " '여학생',\n",
       " '남학생',\n",
       " '연필',\n",
       " '정가',\n",
       " '컴퍼스',\n",
       " '할인',\n",
       " '운동장',\n",
       " '교실',\n",
       " '진수',\n",
       " '주은',\n",
       " '용돈',\n",
       " '인형',\n",
       " '생산량',\n",
       " '전',\n",
       " '실제',\n",
       " '구멍',\n",
       " '꽃',\n",
       " '미',\n",
       " '미연',\n",
       " '연속',\n",
       " '짝수',\n",
       " '예원',\n",
       " '수학',\n",
       " '시험',\n",
       " '평균',\n",
       " '점수',\n",
       " '물통',\n",
       " '양변',\n",
       " '학교',\n",
       " '화단',\n",
       " '장미',\n",
       " '채송화',\n",
       " '라면',\n",
       " '초등',\n",
       " '수의',\n",
       " '전학',\n",
       " '판단',\n",
       " '로',\n",
       " '사각',\n",
       " '안쪽',\n",
       " '등호',\n",
       " '연이',\n",
       " '보물',\n",
       " '동화책',\n",
       " '재현',\n",
       " '종',\n",
       " '희',\n",
       " '지우',\n",
       " '현정',\n",
       " '통분',\n",
       " '재우',\n",
       " '태극기',\n",
       " '나래',\n",
       " '현영',\n",
       " '성준',\n",
       " '놀이',\n",
       " '희진',\n",
       " '나이',\n",
       " '마트',\n",
       " '참외',\n",
       " '판매',\n",
       " '자전거',\n",
       " '과일',\n",
       " '가게',\n",
       " '귤',\n",
       " '공배수',\n",
       " '최소공배수',\n",
       " '가현',\n",
       " '엄마',\n",
       " '축제',\n",
       " '튤립',\n",
       " '꽃밭',\n",
       " '현경',\n",
       " '윤하',\n",
       " '버터',\n",
       " '설탕',\n",
       " '준수',\n",
       " '지아',\n",
       " '소희',\n",
       " '동훈',\n",
       " '현',\n",
       " '종수',\n",
       " '욱',\n",
       " '지윤',\n",
       " '호석',\n",
       " '사탕',\n",
       " '황금',\n",
       " '영',\n",
       " '할아버지',\n",
       " '댁',\n",
       " '백분율',\n",
       " '생신',\n",
       " '케이크',\n",
       " '원이',\n",
       " '배수',\n",
       " '수일',\n",
       " '칠판',\n",
       " '윤희',\n",
       " '가',\n",
       " '이때',\n",
       " '쌀',\n",
       " '현미',\n",
       " '밥',\n",
       " '액자',\n",
       " '복숭아',\n",
       " '이번',\n",
       " '주말',\n",
       " '놀이공원',\n",
       " '현아',\n",
       " '동물원',\n",
       " '톱니바퀴',\n",
       " '승',\n",
       " '목욕',\n",
       " '지우개',\n",
       " '증발',\n",
       " '서진',\n",
       " '오후',\n",
       " '그림자',\n",
       " '탑',\n",
       " '은행',\n",
       " '예금',\n",
       " '지은이',\n",
       " '오늘',\n",
       " '소진',\n",
       " '할머니',\n",
       " '지하철',\n",
       " '승희',\n",
       " '정이',\n",
       " '은정',\n",
       " '수아',\n",
       " '혁',\n",
       " '호영',\n",
       " '진우',\n",
       " '리본',\n",
       " '아이스크림',\n",
       " '과자',\n",
       " '찬',\n",
       " '지원이',\n",
       " '장',\n",
       " '자루',\n",
       " '소현',\n",
       " '바구니',\n",
       " '소',\n",
       " '소율',\n",
       " '초록색',\n",
       " '태현',\n",
       " '수빈',\n",
       " '정수',\n",
       " '명수',\n",
       " '재석',\n",
       " '준하',\n",
       " '종국',\n",
       " '운동',\n",
       " '태우',\n",
       " '축구',\n",
       " '농부',\n",
       " '옥수수',\n",
       " '콩',\n",
       " '오이',\n",
       " '고추',\n",
       " '묶음',\n",
       " '모둠',\n",
       " '인성',\n",
       " '지효',\n",
       " '광수',\n",
       " '연지',\n",
       " '올해',\n",
       " '도화지',\n",
       " '유리',\n",
       " '선물',\n",
       " '홍',\n",
       " '대화',\n",
       " '경민',\n",
       " '마',\n",
       " '점선',\n",
       " '은',\n",
       " '짝',\n",
       " '은진',\n",
       " '교통',\n",
       " '표지판',\n",
       " '수업',\n",
       " '정오각형',\n",
       " '동일',\n",
       " '소라',\n",
       " '준비물',\n",
       " '진주',\n",
       " '준호',\n",
       " '알파벳',\n",
       " '문자',\n",
       " '선대칭',\n",
       " '트리',\n",
       " '선영',\n",
       " '모자',\n",
       " '물감',\n",
       " '미술',\n",
       " '지영',\n",
       " '반대',\n",
       " '은하',\n",
       " '세계',\n",
       " '나라',\n",
       " '국기',\n",
       " '이름',\n",
       " '스위스',\n",
       " '영국',\n",
       " '역사',\n",
       " '깃발',\n",
       " '회전',\n",
       " '마름',\n",
       " '대각선',\n",
       " '대응',\n",
       " '지점',\n",
       " '몫',\n",
       " '단위분수',\n",
       " '약분',\n",
       " '산책로',\n",
       " '토끼',\n",
       " '거북이',\n",
       " '대분수',\n",
       " '식',\n",
       " '수직선',\n",
       " '주의',\n",
       " '이지만',\n",
       " '아랫변',\n",
       " '윗변',\n",
       " '가운데',\n",
       " '화분',\n",
       " '종류',\n",
       " '음료수',\n",
       " '정육각형',\n",
       " '나무판',\n",
       " '유의',\n",
       " '중점',\n",
       " '원기둥',\n",
       " '전개도',\n",
       " '입체',\n",
       " '부피',\n",
       " '원주율',\n",
       " '옆면',\n",
       " '통조림',\n",
       " '포장지',\n",
       " '회전축',\n",
       " '실',\n",
       " '일부',\n",
       " '제외',\n",
       " '축',\n",
       " '원주',\n",
       " '지름',\n",
       " '기준',\n",
       " '수민',\n",
       " '마을',\n",
       " '띠',\n",
       " '인구',\n",
       " '분포',\n",
       " '조사',\n",
       " '띠그래프',\n",
       " '호랑이띠',\n",
       " '기타',\n",
       " '지훈',\n",
       " '동물',\n",
       " '서점',\n",
       " '위인전',\n",
       " '국내',\n",
       " '위인',\n",
       " '관련',\n",
       " '과학',\n",
       " '지출',\n",
       " '도서',\n",
       " '입비',\n",
       " '현진',\n",
       " '원그래프',\n",
       " '멜론',\n",
       " '바나나',\n",
       " '블루베리',\n",
       " '민준',\n",
       " '농구',\n",
       " '배구',\n",
       " '야구',\n",
       " '체육',\n",
       " '대상',\n",
       " '차지',\n",
       " '영수',\n",
       " '모종',\n",
       " '배추',\n",
       " '상추',\n",
       " '변화',\n",
       " '상태',\n",
       " '구성',\n",
       " '주연',\n",
       " '컴퓨터',\n",
       " '미만',\n",
       " '배일',\n",
       " '반과',\n",
       " '학급',\n",
       " '문고',\n",
       " '영양소',\n",
       " '단백질',\n",
       " '섭취',\n",
       " '탄수화물',\n",
       " '비타민',\n",
       " '매운탕',\n",
       " '갈비탕',\n",
       " '점심',\n",
       " '저녁',\n",
       " '남녀',\n",
       " '음악',\n",
       " '팝송',\n",
       " '나눗셈',\n",
       " '진화',\n",
       " '유진',\n",
       " '가분수',\n",
       " '도로',\n",
       " '가로등',\n",
       " '설치',\n",
       " '통',\n",
       " '활용',\n",
       " '야구공',\n",
       " '요소',\n",
       " '원뿔',\n",
       " '모선',\n",
       " '위아래',\n",
       " '확인',\n",
       " '반원',\n",
       " '구',\n",
       " '표면',\n",
       " '투명',\n",
       " '롤러',\n",
       " '페인트',\n",
       " '그릇',\n",
       " '돌',\n",
       " '기둥',\n",
       " '주민',\n",
       " '가족',\n",
       " '공',\n",
       " '이동한',\n",
       " '정리',\n",
       " '반올림',\n",
       " '성립',\n",
       " '문장',\n",
       " '모형',\n",
       " '오토바이',\n",
       " '공원',\n",
       " '선택',\n",
       " '초',\n",
       " '양초',\n",
       " '불',\n",
       " '게시판',\n",
       " '다면',\n",
       " '일직선',\n",
       " '화살표',\n",
       " '컵',\n",
       " '조각',\n",
       " '피자',\n",
       " '등분',\n",
       " '윤지',\n",
       " '기름',\n",
       " '은영',\n",
       " '현지',\n",
       " '색지',\n",
       " '시영',\n",
       " '노끈',\n",
       " '진분수',\n",
       " '식용유',\n",
       " '지현',\n",
       " '시장',\n",
       " '굽',\n",
       " '둥근기둥',\n",
       " '각기둥',\n",
       " '사각기둥',\n",
       " '다각형',\n",
       " '필통',\n",
       " '현주',\n",
       " '가죽',\n",
       " '호',\n",
       " '빨대',\n",
       " '물체',\n",
       " '각뿔',\n",
       " '공통점',\n",
       " '뿔',\n",
       " '사각뿔',\n",
       " '구의',\n",
       " '현희',\n",
       " '평면도',\n",
       " '구와',\n",
       " '호연',\n",
       " '삼각기둥',\n",
       " '도막',\n",
       " '약속',\n",
       " '반복',\n",
       " '홀수',\n",
       " '감자',\n",
       " '태윤',\n",
       " '친구',\n",
       " '초대',\n",
       " '서연',\n",
       " '수현',\n",
       " '이웃집',\n",
       " '가구',\n",
       " '실험',\n",
       " '비커',\n",
       " '구리',\n",
       " '한쪽',\n",
       " '구간',\n",
       " '포장',\n",
       " '진영',\n",
       " '회사',\n",
       " '재경',\n",
       " '숙제',\n",
       " '어림',\n",
       " '치즈',\n",
       " '캔',\n",
       " '빵',\n",
       " '이현이',\n",
       " '정류장',\n",
       " '그래프',\n",
       " '색깔',\n",
       " '항목',\n",
       " '가축',\n",
       " '닭',\n",
       " '돼지',\n",
       " '빈칸',\n",
       " '소설책',\n",
       " '득표',\n",
       " '성희',\n",
       " '득표율',\n",
       " '호준',\n",
       " '득표수',\n",
       " '합계',\n",
       " '영어',\n",
       " '그중',\n",
       " '성',\n",
       " '씨',\n",
       " '박',\n",
       " '글',\n",
       " '연예인',\n",
       " '선생',\n",
       " '선수',\n",
       " '장래',\n",
       " '스파게티',\n",
       " '자장면',\n",
       " '카레',\n",
       " '급식',\n",
       " '혈액형',\n",
       " '옷',\n",
       " '생일',\n",
       " '휴대폰',\n",
       " '게임기',\n",
       " '초등학생',\n",
       " '스마트폰',\n",
       " '찬성',\n",
       " '학습',\n",
       " '대답',\n",
       " '시력',\n",
       " '유럽',\n",
       " '연령',\n",
       " '구성비',\n",
       " '해석',\n",
       " '이하',\n",
       " '효주',\n",
       " '사실',\n",
       " '특징',\n",
       " '윤아',\n",
       " '계절',\n",
       " '여름',\n",
       " '가을',\n",
       " '음식',\n",
       " '발생',\n",
       " '쓰레기',\n",
       " '음식물',\n",
       " '플라스틱',\n",
       " '내용',\n",
       " '취미',\n",
       " '독서',\n",
       " '게임',\n",
       " '감상',\n",
       " '생활',\n",
       " '응답',\n",
       " '퍼즐',\n",
       " '종이접기',\n",
       " '딸기',\n",
       " '자료',\n",
       " '도보',\n",
       " '등교',\n",
       " '미국',\n",
       " '중국',\n",
       " '프랑스',\n",
       " '일본',\n",
       " '봄',\n",
       " '겨울',\n",
       " '독서가',\n",
       " '영화',\n",
       " '수영장',\n",
       " '바다',\n",
       " '김',\n",
       " '성씨',\n",
       " '장소',\n",
       " '야구장',\n",
       " '산',\n",
       " '캠핑',\n",
       " '종목',\n",
       " '탁구',\n",
       " '달리기',\n",
       " '무궁화',\n",
       " '빨강',\n",
       " '파랑',\n",
       " '노랑',\n",
       " '호주',\n",
       " '사회',\n",
       " '과목',\n",
       " '국어',\n",
       " '독',\n",
       " '서량',\n",
       " '량',\n",
       " '권수',\n",
       " '수지',\n",
       " '고양이',\n",
       " '강아지',\n",
       " '호랑이',\n",
       " '생활비',\n",
       " '교육비',\n",
       " '통신비',\n",
       " '식품',\n",
       " '비용',\n",
       " '발생량',\n",
       " '일반',\n",
       " '병류',\n",
       " '증가',\n",
       " '첼로',\n",
       " '입장',\n",
       " '청소년',\n",
       " '입장객',\n",
       " '고등학생',\n",
       " '참가자',\n",
       " '여자',\n",
       " '막대그래프',\n",
       " '꺾은선',\n",
       " '그림그래프',\n",
       " '판매량',\n",
       " '제품',\n",
       " '도시',\n",
       " '국토',\n",
       " '논의',\n",
       " '논',\n",
       " '지혜',\n",
       " '행복',\n",
       " '영희',\n",
       " '주영',\n",
       " '약',\n",
       " '예상',\n",
       " '농장',\n",
       " '파',\n",
       " '운반',\n",
       " '대',\n",
       " '아파트',\n",
       " '승강기',\n",
       " '엘리베이터',\n",
       " '어른',\n",
       " '어린이',\n",
       " '우주',\n",
       " '왕',\n",
       " '짐',\n",
       " '화물',\n",
       " '왕복',\n",
       " '서영',\n",
       " '당',\n",
       " '재배',\n",
       " '단위',\n",
       " '코끼리',\n",
       " '하마',\n",
       " '포대',\n",
       " '통일',\n",
       " '정답',\n",
       " '땅',\n",
       " '영이',\n",
       " '과수원',\n",
       " '수확',\n",
       " '코뿔소',\n",
       " '의자',\n",
       " '식물원',\n",
       " '도현',\n",
       " '현수',\n",
       " '소정',\n",
       " '수확량',\n",
       " '민선',\n",
       " '산불',\n",
       " '피해',\n",
       " '불편',\n",
       " '편리',\n",
       " '보리',\n",
       " '산책',\n",
       " '물탱크',\n",
       " '긴바늘',\n",
       " '각도',\n",
       " '학원',\n",
       " '도착',\n",
       " '민우',\n",
       " '속력',\n",
       " '초의',\n",
       " '깊이',\n",
       " '초음파',\n",
       " '원단',\n",
       " '혜영',\n",
       " '동네',\n",
       " '둘레길',\n",
       " '시작점',\n",
       " '입구',\n",
       " '최댓값',\n",
       " '정비례',\n",
       " '도',\n",
       " '시',\n",
       " '톱니',\n",
       " '회전수',\n",
       " '자동문',\n",
       " '문',\n",
       " '받침대',\n",
       " '반비례',\n",
       " '석민',\n",
       " '염소',\n",
       " '다리',\n",
       " '탁자',\n",
       " '식탁',\n",
       " '요금',\n",
       " '횟수',\n",
       " '볼펜',\n",
       " ...]"
      ]
     },
     "execution_count": 12,
     "metadata": {},
     "output_type": "execute_result"
    }
   ],
   "source": [
    "vocab = list(model.wv.vocab)\n",
    "vocab"
   ]
  },
  {
   "cell_type": "code",
   "execution_count": 6,
   "metadata": {},
   "outputs": [],
   "source": [
    "model.save(\"total_list.h5\")"
   ]
  },
  {
   "cell_type": "code",
   "execution_count": null,
   "metadata": {},
   "outputs": [],
   "source": [
    "# 모델 불러오기\n",
    "# model = Word2Vec.load('total_list_removed.h5')"
   ]
  },
  {
   "cell_type": "code",
   "execution_count": null,
   "metadata": {},
   "outputs": [],
   "source": [
    "# test_list = [\"서로 다른 두 개의 주사위를 동시에 던질 때, 나오는 눈의 수의 곱이 24이상인 경우의 수는?\",\n",
    "#              \"두 자연수A, B의 최대공약수가 72일 때, 이 두 수 A,B의 공약수의 개수는?\",\n",
    "#              \"두 유리수 17/3과 3/2사이에 있는 정수가 아닌 유리수 중 분모가 5인 기약분수의 개수는?\",\n",
    "#              \"방정식 0.7(x-4) = -1-0.9(3-x)의 해를 x=a라 할 때, a보다 작은 자연수의 개수는?\",\n",
    "#              \"원가가 3000원인 어떤 물건이 있다. 이 물건을 정가의 20%를 할인하여 팔았더니 원가에 대하여 12%의 이익을 얻었다고 한다. 이 물건은 원가에 몇 %이익을 붙여서 정가를 정한 것인가?\",\n",
    "#              \"어떤 3b/2a식에 를 곱해야 할 것을 잘못하여 나누었더니 6ab이 되었다. 바르게 계산한 답은?\",\n",
    "#              \"어떤 다항식을 2x^2으로 나누었더니 나누어떨어졌다. 몫이 3x^2-2x-6일 때, 이 다항식의 x^2의 계수는?\",\n",
    "#              \"다음 중 문장을 부등식으로 나타낸 것으로 옳지 않은 것은? ① x에서 5를 뺀 수는 x의 3배보다 작다. ② 한 개에 x원인 사과 6의 값은 것은 한 통에 8000원인 수박 한 통의 값보다 싸다. ③ 가로의 길이가 xcm, 세로의 길이가 6cm인 직사각형의 둘레의 길이는  42cm미만이다. ④ 시속 2km로 x시간 동안 달린 거리는 30km이상이다. ⑤ 8명이 각각 x원씩 내면 총액은 30000원 이하이다.\",\n",
    "#              \"x=2, y-3이 x,y 에 대한 일차방정식 (2a+b)x-(a-b)y=0의 해일 때, 일차방정식 ax-2b=3by-a를 만족시키는 x,y 에 대하여 5x+3y의 값을 구하시오. (단, a,b 는 상수이고, ab!=0이다.)\",\n",
    "#              \"상수 a,b 에 대하여 일차방정식 ax-y-b=0의 그래프가 일차방정식 -4x+2y+5=0의 그래프와 평행하고, 일차방정식 2x+y-1=0의 그래프와 y축 위에서 만난다. 이때 a+b의 값은? (단, a!=0)\"\n",
    "#             ]"
   ]
  },
  {
   "cell_type": "markdown",
   "metadata": {},
   "source": [
    "## 리스트 문항을 토큰화하고 해당 단어와 유사한 단어 찾기"
   ]
  },
  {
   "cell_type": "code",
   "execution_count": 7,
   "metadata": {},
   "outputs": [],
   "source": [
    "import numpy as np\n",
    "from tqdm import tqdm\n",
    "import random\n",
    "import MeCab\n",
    "\n",
    "np.random.seed(1)\n",
    "test_list = random.sample(total_list, 50)\n",
    "\n",
    "# 리스트 단어 각각에 대해 가장 유사한 단어 추출\n",
    "def similar(list):\n",
    "    token_result = []\n",
    "    for i in range(len(list)):\n",
    "        token_result.append(list[i])\n",
    "        token_result.append(model.wv.most_similar(positive=\"{}\".format(list[i]), topn=1))\n",
    "    return token_result\n",
    "\n",
    "# 추출된 단어의 유사도 평균 계산\n",
    "def mean_similar(list):\n",
    "    import numpy as np\n",
    "    \n",
    "    cosine_value_list = []\n",
    "    for i in range(len(list)):\n",
    "        if i%2 !=0:\n",
    "            cosine_value_list.append(list[i][0][1])\n",
    "    cosine_value = np.mean(cosine_value_list)\n",
    "    return cosine_value\n",
    "\n",
    "'''\n",
    "random sampling된 test_list의 문항들을 토큰화 하고\n",
    "모델의 vocab에 있는 명사만 test_result에 저장한다.\n",
    "similar_list에는 기존명사, top1명사, cosine유사도 값이 들어있다.\n",
    "'''\n",
    "def modeltest():\n",
    "    t = MeCab.Tagger ('-d C:/mecab/mecab-ko-dic')\n",
    "    vocab = list(model.wv.vocab)\n",
    "\n",
    "    test_result = []\n",
    "    no_test_result = []\n",
    "    for j in range(len(test_list)):\n",
    "        sentence = test_list[j]\n",
    "        tokenlist=t.parse(sentence)\n",
    "\n",
    "        m = tokenlist.split(\"\\n\")\n",
    "        m.remove('')\n",
    "        m.remove('EOS')\n",
    "\n",
    "        word_list = []\n",
    "        for i in range(len(m)):\n",
    "            m1 = m[i].split('\\t')[0]\n",
    "            m2 = m[i].split('\\t')[1].split(',')[0]\n",
    "\n",
    "            if m2 in [\"NNG\",\"NNP\"]:\n",
    "                if m1 in vocab:\n",
    "                    word_list.append(m1)\n",
    "        if word_list:\n",
    "            test_result.append(word_list)\n",
    "        if not word_list:\n",
    "            no_test_result.append(j)\n",
    "\n",
    "    testword_list = []\n",
    "    for i in range(len(test_result)):\n",
    "        m = test_result[i]\n",
    "        for j in range(len(m)):\n",
    "            testword_list.append(m[j])\n",
    "\n",
    "    similar_list = similar(testword_list)\n",
    "    return mean_similar(similar_list)"
   ]
  },
  {
   "cell_type": "code",
   "execution_count": 61,
   "metadata": {
    "collapsed": true
   },
   "outputs": [
    {
     "name": "stderr",
     "output_type": "stream",
     "text": [
      "  0%|                                                                                                     | 0/56 [00:00<?, ?it/s]\n",
      "  0%|                                                                                                     | 0/20 [00:00<?, ?it/s]\u001b[A\n",
      "  5%|████▋                                                                                        | 1/20 [00:06<02:08,  6.74s/it]\u001b[A"
     ]
    },
    {
     "name": "stdout",
     "output_type": "stream",
     "text": [
      "size = 25, iter = 5\n",
      "0.8846097720364864\n"
     ]
    },
    {
     "name": "stderr",
     "output_type": "stream",
     "text": [
      "\n",
      " 10%|█████████▎                                                                                   | 2/20 [00:19<02:31,  8.41s/it]\u001b[A"
     ]
    },
    {
     "name": "stdout",
     "output_type": "stream",
     "text": [
      "size = 25, iter = 10\n",
      "0.8780103574129102\n"
     ]
    },
    {
     "name": "stderr",
     "output_type": "stream",
     "text": [
      "\n",
      " 15%|█████████████▉                                                                               | 3/20 [00:38<03:17, 11.62s/it]\u001b[A"
     ]
    },
    {
     "name": "stdout",
     "output_type": "stream",
     "text": [
      "size = 25, iter = 15\n",
      "0.8718199188867773\n"
     ]
    },
    {
     "name": "stderr",
     "output_type": "stream",
     "text": [
      "\n",
      " 20%|██████████████████▌                                                                          | 4/20 [01:03<04:12, 15.76s/it]\u001b[A"
     ]
    },
    {
     "name": "stdout",
     "output_type": "stream",
     "text": [
      "size = 25, iter = 20\n",
      "0.8679667060216699\n"
     ]
    },
    {
     "name": "stderr",
     "output_type": "stream",
     "text": [
      "\n",
      " 25%|███████████████████████▎                                                                     | 5/20 [01:34<05:06, 20.41s/it]\u001b[A"
     ]
    },
    {
     "name": "stdout",
     "output_type": "stream",
     "text": [
      "size = 25, iter = 25\n",
      "0.8650171208414003\n"
     ]
    },
    {
     "name": "stderr",
     "output_type": "stream",
     "text": [
      "\n",
      " 30%|███████████████████████████▉                                                                 | 6/20 [02:12<05:58, 25.59s/it]\u001b[A"
     ]
    },
    {
     "name": "stdout",
     "output_type": "stream",
     "text": [
      "size = 25, iter = 30\n",
      "0.8624358310628293\n"
     ]
    },
    {
     "name": "stderr",
     "output_type": "stream",
     "text": [
      "\n",
      " 35%|████████████████████████████████▌                                                            | 7/20 [02:54<06:36, 30.47s/it]\u001b[A"
     ]
    },
    {
     "name": "stdout",
     "output_type": "stream",
     "text": [
      "size = 25, iter = 35\n",
      "0.8638079176926063\n"
     ]
    },
    {
     "name": "stderr",
     "output_type": "stream",
     "text": [
      "\n",
      " 40%|█████████████████████████████████████▏                                                       | 8/20 [03:41<07:05, 35.42s/it]\u001b[A"
     ]
    },
    {
     "name": "stdout",
     "output_type": "stream",
     "text": [
      "size = 25, iter = 40\n",
      "0.863798331292384\n"
     ]
    },
    {
     "name": "stderr",
     "output_type": "stream",
     "text": [
      "\n",
      " 45%|█████████████████████████████████████████▊                                                   | 9/20 [04:34<07:27, 40.67s/it]\u001b[A"
     ]
    },
    {
     "name": "stdout",
     "output_type": "stream",
     "text": [
      "size = 25, iter = 45\n",
      "0.8646670987518704\n"
     ]
    },
    {
     "name": "stderr",
     "output_type": "stream",
     "text": [
      "\n",
      " 50%|██████████████████████████████████████████████                                              | 10/20 [05:34<07:43, 46.40s/it]\u001b[A"
     ]
    },
    {
     "name": "stdout",
     "output_type": "stream",
     "text": [
      "size = 25, iter = 50\n",
      "0.8625697127190827\n"
     ]
    },
    {
     "name": "stderr",
     "output_type": "stream",
     "text": [
      "\n",
      " 55%|██████████████████████████████████████████████████▌                                         | 11/20 [06:39<07:48, 52.09s/it]\u001b[A"
     ]
    },
    {
     "name": "stdout",
     "output_type": "stream",
     "text": [
      "size = 25, iter = 55\n",
      "0.8616182774184031\n"
     ]
    },
    {
     "name": "stderr",
     "output_type": "stream",
     "text": [
      "\n",
      " 60%|███████████████████████████████████████████████████████▏                                    | 12/20 [07:50<07:43, 57.91s/it]\u001b[A"
     ]
    },
    {
     "name": "stdout",
     "output_type": "stream",
     "text": [
      "size = 25, iter = 60\n",
      "0.8609281022965989\n"
     ]
    },
    {
     "name": "stderr",
     "output_type": "stream",
     "text": [
      "\n",
      " 65%|███████████████████████████████████████████████████████████▊                                | 13/20 [09:06<07:21, 63.12s/it]\u001b[A"
     ]
    },
    {
     "name": "stdout",
     "output_type": "stream",
     "text": [
      "size = 25, iter = 65\n",
      "0.8661496033500299\n"
     ]
    },
    {
     "name": "stderr",
     "output_type": "stream",
     "text": [
      "\n",
      " 70%|████████████████████████████████████████████████████████████████▍                           | 14/20 [10:26<06:50, 68.39s/it]\u001b[A"
     ]
    },
    {
     "name": "stdout",
     "output_type": "stream",
     "text": [
      "size = 25, iter = 70\n",
      "0.8664932145839469\n"
     ]
    },
    {
     "name": "stderr",
     "output_type": "stream",
     "text": [
      "\n",
      " 75%|█████████████████████████████████████████████████████████████████████                       | 15/20 [11:53<06:08, 73.73s/it]\u001b[A"
     ]
    },
    {
     "name": "stdout",
     "output_type": "stream",
     "text": [
      "size = 25, iter = 75\n",
      "0.8623580087476702\n"
     ]
    },
    {
     "name": "stderr",
     "output_type": "stream",
     "text": [
      "\n",
      " 80%|█████████████████████████████████████████████████████████████████████████▌                  | 16/20 [13:23<05:14, 78.74s/it]\u001b[A"
     ]
    },
    {
     "name": "stdout",
     "output_type": "stream",
     "text": [
      "size = 25, iter = 80\n",
      "0.8620175870496836\n"
     ]
    },
    {
     "name": "stderr",
     "output_type": "stream",
     "text": [
      "\n",
      " 85%|██████████████████████████████████████████████████████████████████████████████▏             | 17/20 [14:59<04:11, 83.91s/it]\u001b[A"
     ]
    },
    {
     "name": "stdout",
     "output_type": "stream",
     "text": [
      "size = 25, iter = 85\n",
      "0.8639559649547696\n"
     ]
    },
    {
     "name": "stderr",
     "output_type": "stream",
     "text": [
      "\n",
      " 90%|██████████████████████████████████████████████████████████████████████████████████▊         | 18/20 [16:40<02:58, 89.14s/it]\u001b[A"
     ]
    },
    {
     "name": "stdout",
     "output_type": "stream",
     "text": [
      "size = 25, iter = 90\n",
      "0.8666605392175257\n"
     ]
    },
    {
     "name": "stderr",
     "output_type": "stream",
     "text": [
      "\n",
      " 95%|███████████████████████████████████████████████████████████████████████████████████████▍    | 19/20 [18:30<01:35, 95.19s/it]\u001b[A"
     ]
    },
    {
     "name": "stdout",
     "output_type": "stream",
     "text": [
      "size = 25, iter = 95\n",
      "0.8606803794081855\n"
     ]
    },
    {
     "name": "stderr",
     "output_type": "stream",
     "text": [
      "\n",
      "100%|████████████████████████████████████████████████████████████████████████████████████████████| 20/20 [20:25<00:00, 61.29s/it]\u001b[A"
     ]
    },
    {
     "name": "stdout",
     "output_type": "stream",
     "text": [
      "size = 25, iter = 100\n",
      "0.8676880873042175\n"
     ]
    },
    {
     "name": "stderr",
     "output_type": "stream",
     "text": [
      "\n"
     ]
    },
    {
     "data": {
      "image/png": "[encoded data removed]",
      "text/plain": [
       "<Figure size 432x288 with 1 Axes>"
      ]
     },
     "metadata": {
      "needs_background": "light"
     },
     "output_type": "display_data"
    },
    {
     "name": "stderr",
     "output_type": "stream",
     "text": [
      "  2%|█▌                                                                                      | 1/56 [20:25<18:43:43, 1225.87s/it]\n",
      "  0%|                                                                                                     | 0/20 [00:00<?, ?it/s]\u001b[A\n",
      "  5%|████▋                                                                                        | 1/20 [00:07<02:19,  7.34s/it]\u001b[A"
     ]
    },
    {
     "name": "stdout",
     "output_type": "stream",
     "text": [
      "size = 30, iter = 5\n",
      "0.8691310780666253\n"
     ]
    },
    {
     "name": "stderr",
     "output_type": "stream",
     "text": [
      "\n",
      " 10%|█████████▎                                                                                   | 2/20 [00:20<02:45,  9.21s/it]\u001b[A"
     ]
    },
    {
     "name": "stdout",
     "output_type": "stream",
     "text": [
      "size = 30, iter = 10\n",
      "0.8578272286393103\n"
     ]
    },
    {
     "name": "stderr",
     "output_type": "stream",
     "text": [
      "\n",
      " 15%|█████████████▉                                                                               | 3/20 [00:41<03:34, 12.61s/it]\u001b[A"
     ]
    },
    {
     "name": "stdout",
     "output_type": "stream",
     "text": [
      "size = 30, iter = 15\n",
      "0.8507644462941298\n"
     ]
    },
    {
     "name": "stderr",
     "output_type": "stream",
     "text": [
      "\n",
      " 20%|██████████████████▌                                                                          | 4/20 [01:08<04:31, 16.99s/it]\u001b[A"
     ]
    },
    {
     "name": "stdout",
     "output_type": "stream",
     "text": [
      "size = 30, iter = 20\n",
      "0.8490906825220892\n"
     ]
    },
    {
     "name": "stderr",
     "output_type": "stream",
     "text": [
      "\n",
      " 25%|███████████████████████▎                                                                     | 5/20 [01:42<05:28, 21.90s/it]\u001b[A"
     ]
    },
    {
     "name": "stdout",
     "output_type": "stream",
     "text": [
      "size = 30, iter = 25\n",
      "0.8495156339583274\n"
     ]
    },
    {
     "name": "stderr",
     "output_type": "stream",
     "text": [
      "\n",
      " 30%|███████████████████████████▉                                                                 | 6/20 [02:21<06:20, 27.16s/it]\u001b[A"
     ]
    },
    {
     "name": "stdout",
     "output_type": "stream",
     "text": [
      "size = 30, iter = 30\n",
      "0.8455221704744419\n"
     ]
    },
    {
     "name": "stderr",
     "output_type": "stream",
     "text": [
      "\n",
      " 35%|████████████████████████████████▌                                                            | 7/20 [03:07<07:05, 32.69s/it]\u001b[A"
     ]
    },
    {
     "name": "stdout",
     "output_type": "stream",
     "text": [
      "size = 30, iter = 35\n",
      "0.8460683299372607\n"
     ]
    },
    {
     "name": "stderr",
     "output_type": "stream",
     "text": [
      "\n",
      " 40%|█████████████████████████████████████▏                                                       | 8/20 [03:58<07:39, 38.27s/it]\u001b[A"
     ]
    },
    {
     "name": "stdout",
     "output_type": "stream",
     "text": [
      "size = 30, iter = 40\n",
      "0.8458303874674452\n"
     ]
    },
    {
     "name": "stderr",
     "output_type": "stream",
     "text": [
      "\n",
      " 45%|█████████████████████████████████████████▊                                                   | 9/20 [04:55<08:04, 44.01s/it]\u001b[A"
     ]
    },
    {
     "name": "stdout",
     "output_type": "stream",
     "text": [
      "size = 30, iter = 45\n",
      "0.8446730807160749\n"
     ]
    },
    {
     "name": "stderr",
     "output_type": "stream",
     "text": [
      "\n",
      " 50%|██████████████████████████████████████████████                                              | 10/20 [05:59<08:18, 49.80s/it]\u001b[A"
     ]
    },
    {
     "name": "stdout",
     "output_type": "stream",
     "text": [
      "size = 30, iter = 50\n",
      "0.8458996157147991\n"
     ]
    },
    {
     "name": "stderr",
     "output_type": "stream",
     "text": [
      "\n",
      " 55%|██████████████████████████████████████████████████▌                                         | 11/20 [07:08<08:20, 55.59s/it]\u001b[A"
     ]
    },
    {
     "name": "stdout",
     "output_type": "stream",
     "text": [
      "size = 30, iter = 55\n",
      "0.8466028852572758\n"
     ]
    },
    {
     "name": "stderr",
     "output_type": "stream",
     "text": [
      "\n",
      " 60%|███████████████████████████████████████████████████████▏                                    | 12/20 [08:26<08:18, 62.32s/it]\u001b[A"
     ]
    },
    {
     "name": "stdout",
     "output_type": "stream",
     "text": [
      "size = 30, iter = 60\n",
      "0.8413156207089831\n"
     ]
    },
    {
     "name": "stderr",
     "output_type": "stream",
     "text": [
      " 60%|███████████████████████████████████████████████████████▏                                    | 12/20 [08:32<05:41, 42.74s/it]\n",
      "  2%|█▌                                                                                      | 1/56 [28:58<26:33:51, 1738.76s/it]\n"
     ]
    },
    {
     "ename": "KeyboardInterrupt",
     "evalue": "",
     "output_type": "error",
     "traceback": [
      "\u001b[1;31m---------------------------------------------------------------------------\u001b[0m",
      "\u001b[1;31mKeyboardInterrupt\u001b[0m                         Traceback (most recent call last)",
      "\u001b[1;32m<ipython-input-61-67d2e2afda1f>\u001b[0m in \u001b[0;36m<module>\u001b[1;34m\u001b[0m\n\u001b[0;32m      9\u001b[0m     \u001b[0my\u001b[0m \u001b[1;33m=\u001b[0m \u001b[1;33m[\u001b[0m\u001b[1;33m]\u001b[0m\u001b[1;33m\u001b[0m\u001b[1;33m\u001b[0m\u001b[0m\n\u001b[0;32m     10\u001b[0m     \u001b[1;32mfor\u001b[0m \u001b[0mi\u001b[0m \u001b[1;32min\u001b[0m \u001b[0mtqdm\u001b[0m\u001b[1;33m(\u001b[0m\u001b[1;33m[\u001b[0m\u001b[1;36m5\u001b[0m\u001b[1;33m*\u001b[0m\u001b[0mi\u001b[0m \u001b[1;32mfor\u001b[0m \u001b[0mi\u001b[0m \u001b[1;32min\u001b[0m \u001b[0mrange\u001b[0m\u001b[1;33m(\u001b[0m\u001b[1;36m1\u001b[0m\u001b[1;33m,\u001b[0m\u001b[1;36m21\u001b[0m\u001b[1;33m)\u001b[0m\u001b[1;33m]\u001b[0m\u001b[1;33m)\u001b[0m\u001b[1;33m:\u001b[0m\u001b[1;33m\u001b[0m\u001b[1;33m\u001b[0m\u001b[0m\n\u001b[1;32m---> 11\u001b[1;33m         \u001b[0mmodel\u001b[0m \u001b[1;33m=\u001b[0m \u001b[0mWord2Vec\u001b[0m\u001b[1;33m(\u001b[0m\u001b[0mresult\u001b[0m\u001b[1;33m,\u001b[0m \u001b[0msize\u001b[0m\u001b[1;33m=\u001b[0m\u001b[0ms\u001b[0m\u001b[1;33m,\u001b[0m \u001b[0mwindow\u001b[0m\u001b[1;33m=\u001b[0m\u001b[1;36m5\u001b[0m\u001b[1;33m,\u001b[0m \u001b[0mmin_count\u001b[0m\u001b[1;33m=\u001b[0m\u001b[1;36m10\u001b[0m\u001b[1;33m,\u001b[0m \u001b[0mworkers\u001b[0m\u001b[1;33m=\u001b[0m\u001b[1;36m4\u001b[0m\u001b[1;33m,\u001b[0m \u001b[0msg\u001b[0m\u001b[1;33m=\u001b[0m\u001b[1;36m1\u001b[0m\u001b[1;33m,\u001b[0m \u001b[0miter\u001b[0m\u001b[1;33m=\u001b[0m\u001b[0mi\u001b[0m\u001b[1;33m)\u001b[0m\u001b[1;33m\u001b[0m\u001b[1;33m\u001b[0m\u001b[0m\n\u001b[0m\u001b[0;32m     12\u001b[0m         \u001b[0mcos\u001b[0m \u001b[1;33m=\u001b[0m \u001b[0mmodeltest\u001b[0m\u001b[1;33m(\u001b[0m\u001b[1;33m)\u001b[0m\u001b[1;33m\u001b[0m\u001b[1;33m\u001b[0m\u001b[0m\n\u001b[0;32m     13\u001b[0m         \u001b[0mprint\u001b[0m\u001b[1;33m(\u001b[0m\u001b[1;34m\"size = %d, iter = %d\"\u001b[0m \u001b[1;33m%\u001b[0m \u001b[1;33m(\u001b[0m\u001b[0ms\u001b[0m\u001b[1;33m,\u001b[0m \u001b[0mi\u001b[0m\u001b[1;33m)\u001b[0m\u001b[1;33m)\u001b[0m\u001b[1;33m\u001b[0m\u001b[1;33m\u001b[0m\u001b[0m\n",
      "\u001b[1;32mC:\\Anaconda3\\envs\\mecabenv\\lib\\site-packages\\gensim\\models\\word2vec.py\u001b[0m in \u001b[0;36m__init__\u001b[1;34m(self, sentences, corpus_file, size, alpha, window, min_count, max_vocab_size, sample, seed, workers, min_alpha, sg, hs, negative, ns_exponent, cbow_mean, hashfxn, iter, null_word, trim_rule, sorted_vocab, batch_words, compute_loss, callbacks, max_final_vocab)\u001b[0m\n\u001b[0;32m    598\u001b[0m             \u001b[0msentences\u001b[0m\u001b[1;33m=\u001b[0m\u001b[0msentences\u001b[0m\u001b[1;33m,\u001b[0m \u001b[0mcorpus_file\u001b[0m\u001b[1;33m=\u001b[0m\u001b[0mcorpus_file\u001b[0m\u001b[1;33m,\u001b[0m \u001b[0mworkers\u001b[0m\u001b[1;33m=\u001b[0m\u001b[0mworkers\u001b[0m\u001b[1;33m,\u001b[0m \u001b[0mvector_size\u001b[0m\u001b[1;33m=\u001b[0m\u001b[0msize\u001b[0m\u001b[1;33m,\u001b[0m \u001b[0mepochs\u001b[0m\u001b[1;33m=\u001b[0m\u001b[0miter\u001b[0m\u001b[1;33m,\u001b[0m\u001b[1;33m\u001b[0m\u001b[1;33m\u001b[0m\u001b[0m\n\u001b[0;32m    599\u001b[0m             \u001b[0mcallbacks\u001b[0m\u001b[1;33m=\u001b[0m\u001b[0mcallbacks\u001b[0m\u001b[1;33m,\u001b[0m \u001b[0mbatch_words\u001b[0m\u001b[1;33m=\u001b[0m\u001b[0mbatch_words\u001b[0m\u001b[1;33m,\u001b[0m \u001b[0mtrim_rule\u001b[0m\u001b[1;33m=\u001b[0m\u001b[0mtrim_rule\u001b[0m\u001b[1;33m,\u001b[0m \u001b[0msg\u001b[0m\u001b[1;33m=\u001b[0m\u001b[0msg\u001b[0m\u001b[1;33m,\u001b[0m \u001b[0malpha\u001b[0m\u001b[1;33m=\u001b[0m\u001b[0malpha\u001b[0m\u001b[1;33m,\u001b[0m \u001b[0mwindow\u001b[0m\u001b[1;33m=\u001b[0m\u001b[0mwindow\u001b[0m\u001b[1;33m,\u001b[0m\u001b[1;33m\u001b[0m\u001b[1;33m\u001b[0m\u001b[0m\n\u001b[1;32m--> 600\u001b[1;33m             seed=seed, hs=hs, negative=negative, cbow_mean=cbow_mean, min_alpha=min_alpha, compute_loss=compute_loss)\n\u001b[0m\u001b[0;32m    601\u001b[0m \u001b[1;33m\u001b[0m\u001b[0m\n\u001b[0;32m    602\u001b[0m     def _do_train_epoch(self, corpus_file, thread_id, offset, cython_vocab, thread_private_mem, cur_epoch,\n",
      "\u001b[1;32mC:\\Anaconda3\\envs\\mecabenv\\lib\\site-packages\\gensim\\models\\base_any2vec.py\u001b[0m in \u001b[0;36m__init__\u001b[1;34m(self, sentences, corpus_file, workers, vector_size, epochs, callbacks, batch_words, trim_rule, sg, alpha, window, seed, hs, negative, ns_exponent, cbow_mean, min_alpha, compute_loss, **kwargs)\u001b[0m\n\u001b[0;32m    747\u001b[0m                 \u001b[0msentences\u001b[0m\u001b[1;33m=\u001b[0m\u001b[0msentences\u001b[0m\u001b[1;33m,\u001b[0m \u001b[0mcorpus_file\u001b[0m\u001b[1;33m=\u001b[0m\u001b[0mcorpus_file\u001b[0m\u001b[1;33m,\u001b[0m \u001b[0mtotal_examples\u001b[0m\u001b[1;33m=\u001b[0m\u001b[0mself\u001b[0m\u001b[1;33m.\u001b[0m\u001b[0mcorpus_count\u001b[0m\u001b[1;33m,\u001b[0m\u001b[1;33m\u001b[0m\u001b[1;33m\u001b[0m\u001b[0m\n\u001b[0;32m    748\u001b[0m                 \u001b[0mtotal_words\u001b[0m\u001b[1;33m=\u001b[0m\u001b[0mself\u001b[0m\u001b[1;33m.\u001b[0m\u001b[0mcorpus_total_words\u001b[0m\u001b[1;33m,\u001b[0m \u001b[0mepochs\u001b[0m\u001b[1;33m=\u001b[0m\u001b[0mself\u001b[0m\u001b[1;33m.\u001b[0m\u001b[0mepochs\u001b[0m\u001b[1;33m,\u001b[0m \u001b[0mstart_alpha\u001b[0m\u001b[1;33m=\u001b[0m\u001b[0mself\u001b[0m\u001b[1;33m.\u001b[0m\u001b[0malpha\u001b[0m\u001b[1;33m,\u001b[0m\u001b[1;33m\u001b[0m\u001b[1;33m\u001b[0m\u001b[0m\n\u001b[1;32m--> 749\u001b[1;33m                 end_alpha=self.min_alpha, compute_loss=compute_loss)\n\u001b[0m\u001b[0;32m    750\u001b[0m         \u001b[1;32melse\u001b[0m\u001b[1;33m:\u001b[0m\u001b[1;33m\u001b[0m\u001b[1;33m\u001b[0m\u001b[0m\n\u001b[0;32m    751\u001b[0m             \u001b[1;32mif\u001b[0m \u001b[0mtrim_rule\u001b[0m \u001b[1;32mis\u001b[0m \u001b[1;32mnot\u001b[0m \u001b[1;32mNone\u001b[0m\u001b[1;33m:\u001b[0m\u001b[1;33m\u001b[0m\u001b[1;33m\u001b[0m\u001b[0m\n",
      "\u001b[1;32mC:\\Anaconda3\\envs\\mecabenv\\lib\\site-packages\\gensim\\models\\word2vec.py\u001b[0m in \u001b[0;36mtrain\u001b[1;34m(self, sentences, corpus_file, total_examples, total_words, epochs, start_alpha, end_alpha, word_count, queue_factor, report_delay, compute_loss, callbacks)\u001b[0m\n\u001b[0;32m    725\u001b[0m             \u001b[0msentences\u001b[0m\u001b[1;33m=\u001b[0m\u001b[0msentences\u001b[0m\u001b[1;33m,\u001b[0m \u001b[0mcorpus_file\u001b[0m\u001b[1;33m=\u001b[0m\u001b[0mcorpus_file\u001b[0m\u001b[1;33m,\u001b[0m \u001b[0mtotal_examples\u001b[0m\u001b[1;33m=\u001b[0m\u001b[0mtotal_examples\u001b[0m\u001b[1;33m,\u001b[0m \u001b[0mtotal_words\u001b[0m\u001b[1;33m=\u001b[0m\u001b[0mtotal_words\u001b[0m\u001b[1;33m,\u001b[0m\u001b[1;33m\u001b[0m\u001b[1;33m\u001b[0m\u001b[0m\n\u001b[0;32m    726\u001b[0m             \u001b[0mepochs\u001b[0m\u001b[1;33m=\u001b[0m\u001b[0mepochs\u001b[0m\u001b[1;33m,\u001b[0m \u001b[0mstart_alpha\u001b[0m\u001b[1;33m=\u001b[0m\u001b[0mstart_alpha\u001b[0m\u001b[1;33m,\u001b[0m \u001b[0mend_alpha\u001b[0m\u001b[1;33m=\u001b[0m\u001b[0mend_alpha\u001b[0m\u001b[1;33m,\u001b[0m \u001b[0mword_count\u001b[0m\u001b[1;33m=\u001b[0m\u001b[0mword_count\u001b[0m\u001b[1;33m,\u001b[0m\u001b[1;33m\u001b[0m\u001b[1;33m\u001b[0m\u001b[0m\n\u001b[1;32m--> 727\u001b[1;33m             queue_factor=queue_factor, report_delay=report_delay, compute_loss=compute_loss, callbacks=callbacks)\n\u001b[0m\u001b[0;32m    728\u001b[0m \u001b[1;33m\u001b[0m\u001b[0m\n\u001b[0;32m    729\u001b[0m     \u001b[1;32mdef\u001b[0m \u001b[0mscore\u001b[0m\u001b[1;33m(\u001b[0m\u001b[0mself\u001b[0m\u001b[1;33m,\u001b[0m \u001b[0msentences\u001b[0m\u001b[1;33m,\u001b[0m \u001b[0mtotal_sentences\u001b[0m\u001b[1;33m=\u001b[0m\u001b[0mint\u001b[0m\u001b[1;33m(\u001b[0m\u001b[1;36m1e6\u001b[0m\u001b[1;33m)\u001b[0m\u001b[1;33m,\u001b[0m \u001b[0mchunksize\u001b[0m\u001b[1;33m=\u001b[0m\u001b[1;36m100\u001b[0m\u001b[1;33m,\u001b[0m \u001b[0mqueue_factor\u001b[0m\u001b[1;33m=\u001b[0m\u001b[1;36m2\u001b[0m\u001b[1;33m,\u001b[0m \u001b[0mreport_delay\u001b[0m\u001b[1;33m=\u001b[0m\u001b[1;36m1\u001b[0m\u001b[1;33m)\u001b[0m\u001b[1;33m:\u001b[0m\u001b[1;33m\u001b[0m\u001b[1;33m\u001b[0m\u001b[0m\n",
      "\u001b[1;32mC:\\Anaconda3\\envs\\mecabenv\\lib\\site-packages\\gensim\\models\\base_any2vec.py\u001b[0m in \u001b[0;36mtrain\u001b[1;34m(self, sentences, corpus_file, total_examples, total_words, epochs, start_alpha, end_alpha, word_count, queue_factor, report_delay, compute_loss, callbacks, **kwargs)\u001b[0m\n\u001b[0;32m   1065\u001b[0m             \u001b[0mtotal_words\u001b[0m\u001b[1;33m=\u001b[0m\u001b[0mtotal_words\u001b[0m\u001b[1;33m,\u001b[0m \u001b[0mepochs\u001b[0m\u001b[1;33m=\u001b[0m\u001b[0mepochs\u001b[0m\u001b[1;33m,\u001b[0m \u001b[0mstart_alpha\u001b[0m\u001b[1;33m=\u001b[0m\u001b[0mstart_alpha\u001b[0m\u001b[1;33m,\u001b[0m \u001b[0mend_alpha\u001b[0m\u001b[1;33m=\u001b[0m\u001b[0mend_alpha\u001b[0m\u001b[1;33m,\u001b[0m \u001b[0mword_count\u001b[0m\u001b[1;33m=\u001b[0m\u001b[0mword_count\u001b[0m\u001b[1;33m,\u001b[0m\u001b[1;33m\u001b[0m\u001b[1;33m\u001b[0m\u001b[0m\n\u001b[0;32m   1066\u001b[0m             \u001b[0mqueue_factor\u001b[0m\u001b[1;33m=\u001b[0m\u001b[0mqueue_factor\u001b[0m\u001b[1;33m,\u001b[0m \u001b[0mreport_delay\u001b[0m\u001b[1;33m=\u001b[0m\u001b[0mreport_delay\u001b[0m\u001b[1;33m,\u001b[0m \u001b[0mcompute_loss\u001b[0m\u001b[1;33m=\u001b[0m\u001b[0mcompute_loss\u001b[0m\u001b[1;33m,\u001b[0m \u001b[0mcallbacks\u001b[0m\u001b[1;33m=\u001b[0m\u001b[0mcallbacks\u001b[0m\u001b[1;33m,\u001b[0m\u001b[1;33m\u001b[0m\u001b[1;33m\u001b[0m\u001b[0m\n\u001b[1;32m-> 1067\u001b[1;33m             **kwargs)\n\u001b[0m\u001b[0;32m   1068\u001b[0m \u001b[1;33m\u001b[0m\u001b[0m\n\u001b[0;32m   1069\u001b[0m     \u001b[1;32mdef\u001b[0m \u001b[0m_get_job_params\u001b[0m\u001b[1;33m(\u001b[0m\u001b[0mself\u001b[0m\u001b[1;33m,\u001b[0m \u001b[0mcur_epoch\u001b[0m\u001b[1;33m)\u001b[0m\u001b[1;33m:\u001b[0m\u001b[1;33m\u001b[0m\u001b[1;33m\u001b[0m\u001b[0m\n",
      "\u001b[1;32mC:\\Anaconda3\\envs\\mecabenv\\lib\\site-packages\\gensim\\models\\base_any2vec.py\u001b[0m in \u001b[0;36mtrain\u001b[1;34m(self, data_iterable, corpus_file, epochs, total_examples, total_words, queue_factor, report_delay, callbacks, **kwargs)\u001b[0m\n\u001b[0;32m    550\u001b[0m                 trained_word_count_epoch, raw_word_count_epoch, job_tally_epoch = self._train_epoch(\n\u001b[0;32m    551\u001b[0m                     \u001b[0mdata_iterable\u001b[0m\u001b[1;33m,\u001b[0m \u001b[0mcur_epoch\u001b[0m\u001b[1;33m=\u001b[0m\u001b[0mcur_epoch\u001b[0m\u001b[1;33m,\u001b[0m \u001b[0mtotal_examples\u001b[0m\u001b[1;33m=\u001b[0m\u001b[0mtotal_examples\u001b[0m\u001b[1;33m,\u001b[0m\u001b[1;33m\u001b[0m\u001b[1;33m\u001b[0m\u001b[0m\n\u001b[1;32m--> 552\u001b[1;33m                     total_words=total_words, queue_factor=queue_factor, report_delay=report_delay)\n\u001b[0m\u001b[0;32m    553\u001b[0m             \u001b[1;32melse\u001b[0m\u001b[1;33m:\u001b[0m\u001b[1;33m\u001b[0m\u001b[1;33m\u001b[0m\u001b[0m\n\u001b[0;32m    554\u001b[0m                 trained_word_count_epoch, raw_word_count_epoch, job_tally_epoch = self._train_epoch_corpusfile(\n",
      "\u001b[1;32mC:\\Anaconda3\\envs\\mecabenv\\lib\\site-packages\\gensim\\models\\base_any2vec.py\u001b[0m in \u001b[0;36m_train_epoch\u001b[1;34m(self, data_iterable, cur_epoch, total_examples, total_words, queue_factor, report_delay)\u001b[0m\n\u001b[0;32m    486\u001b[0m         trained_word_count, raw_word_count, job_tally = self._log_epoch_progress(\n\u001b[0;32m    487\u001b[0m             \u001b[0mprogress_queue\u001b[0m\u001b[1;33m,\u001b[0m \u001b[0mjob_queue\u001b[0m\u001b[1;33m,\u001b[0m \u001b[0mcur_epoch\u001b[0m\u001b[1;33m=\u001b[0m\u001b[0mcur_epoch\u001b[0m\u001b[1;33m,\u001b[0m \u001b[0mtotal_examples\u001b[0m\u001b[1;33m=\u001b[0m\u001b[0mtotal_examples\u001b[0m\u001b[1;33m,\u001b[0m \u001b[0mtotal_words\u001b[0m\u001b[1;33m=\u001b[0m\u001b[0mtotal_words\u001b[0m\u001b[1;33m,\u001b[0m\u001b[1;33m\u001b[0m\u001b[1;33m\u001b[0m\u001b[0m\n\u001b[1;32m--> 488\u001b[1;33m             report_delay=report_delay, is_corpus_file_mode=False)\n\u001b[0m\u001b[0;32m    489\u001b[0m \u001b[1;33m\u001b[0m\u001b[0m\n\u001b[0;32m    490\u001b[0m         \u001b[1;32mreturn\u001b[0m \u001b[0mtrained_word_count\u001b[0m\u001b[1;33m,\u001b[0m \u001b[0mraw_word_count\u001b[0m\u001b[1;33m,\u001b[0m \u001b[0mjob_tally\u001b[0m\u001b[1;33m\u001b[0m\u001b[1;33m\u001b[0m\u001b[0m\n",
      "\u001b[1;32mC:\\Anaconda3\\envs\\mecabenv\\lib\\site-packages\\gensim\\models\\base_any2vec.py\u001b[0m in \u001b[0;36m_log_epoch_progress\u001b[1;34m(self, progress_queue, job_queue, cur_epoch, total_examples, total_words, report_delay, is_corpus_file_mode)\u001b[0m\n\u001b[0;32m    343\u001b[0m \u001b[1;33m\u001b[0m\u001b[0m\n\u001b[0;32m    344\u001b[0m         \u001b[1;32mwhile\u001b[0m \u001b[0munfinished_worker_count\u001b[0m \u001b[1;33m>\u001b[0m \u001b[1;36m0\u001b[0m\u001b[1;33m:\u001b[0m\u001b[1;33m\u001b[0m\u001b[1;33m\u001b[0m\u001b[0m\n\u001b[1;32m--> 345\u001b[1;33m             \u001b[0mreport\u001b[0m \u001b[1;33m=\u001b[0m \u001b[0mprogress_queue\u001b[0m\u001b[1;33m.\u001b[0m\u001b[0mget\u001b[0m\u001b[1;33m(\u001b[0m\u001b[1;33m)\u001b[0m  \u001b[1;31m# blocks if workers too slow\u001b[0m\u001b[1;33m\u001b[0m\u001b[1;33m\u001b[0m\u001b[0m\n\u001b[0m\u001b[0;32m    346\u001b[0m             \u001b[1;32mif\u001b[0m \u001b[0mreport\u001b[0m \u001b[1;32mis\u001b[0m \u001b[1;32mNone\u001b[0m\u001b[1;33m:\u001b[0m  \u001b[1;31m# a thread reporting that it finished\u001b[0m\u001b[1;33m\u001b[0m\u001b[1;33m\u001b[0m\u001b[0m\n\u001b[0;32m    347\u001b[0m                 \u001b[0munfinished_worker_count\u001b[0m \u001b[1;33m-=\u001b[0m \u001b[1;36m1\u001b[0m\u001b[1;33m\u001b[0m\u001b[1;33m\u001b[0m\u001b[0m\n",
      "\u001b[1;32mC:\\Anaconda3\\envs\\mecabenv\\lib\\queue.py\u001b[0m in \u001b[0;36mget\u001b[1;34m(self, block, timeout)\u001b[0m\n\u001b[0;32m    162\u001b[0m             \u001b[1;32melif\u001b[0m \u001b[0mtimeout\u001b[0m \u001b[1;32mis\u001b[0m \u001b[1;32mNone\u001b[0m\u001b[1;33m:\u001b[0m\u001b[1;33m\u001b[0m\u001b[1;33m\u001b[0m\u001b[0m\n\u001b[0;32m    163\u001b[0m                 \u001b[1;32mwhile\u001b[0m \u001b[1;32mnot\u001b[0m \u001b[0mself\u001b[0m\u001b[1;33m.\u001b[0m\u001b[0m_qsize\u001b[0m\u001b[1;33m(\u001b[0m\u001b[1;33m)\u001b[0m\u001b[1;33m:\u001b[0m\u001b[1;33m\u001b[0m\u001b[1;33m\u001b[0m\u001b[0m\n\u001b[1;32m--> 164\u001b[1;33m                     \u001b[0mself\u001b[0m\u001b[1;33m.\u001b[0m\u001b[0mnot_empty\u001b[0m\u001b[1;33m.\u001b[0m\u001b[0mwait\u001b[0m\u001b[1;33m(\u001b[0m\u001b[1;33m)\u001b[0m\u001b[1;33m\u001b[0m\u001b[1;33m\u001b[0m\u001b[0m\n\u001b[0m\u001b[0;32m    165\u001b[0m             \u001b[1;32melif\u001b[0m \u001b[0mtimeout\u001b[0m \u001b[1;33m<\u001b[0m \u001b[1;36m0\u001b[0m\u001b[1;33m:\u001b[0m\u001b[1;33m\u001b[0m\u001b[1;33m\u001b[0m\u001b[0m\n\u001b[0;32m    166\u001b[0m                 \u001b[1;32mraise\u001b[0m \u001b[0mValueError\u001b[0m\u001b[1;33m(\u001b[0m\u001b[1;34m\"'timeout' must be a non-negative number\"\u001b[0m\u001b[1;33m)\u001b[0m\u001b[1;33m\u001b[0m\u001b[1;33m\u001b[0m\u001b[0m\n",
      "\u001b[1;32mC:\\Anaconda3\\envs\\mecabenv\\lib\\threading.py\u001b[0m in \u001b[0;36mwait\u001b[1;34m(self, timeout)\u001b[0m\n\u001b[0;32m    293\u001b[0m         \u001b[1;32mtry\u001b[0m\u001b[1;33m:\u001b[0m    \u001b[1;31m# restore state no matter what (e.g., KeyboardInterrupt)\u001b[0m\u001b[1;33m\u001b[0m\u001b[1;33m\u001b[0m\u001b[0m\n\u001b[0;32m    294\u001b[0m             \u001b[1;32mif\u001b[0m \u001b[0mtimeout\u001b[0m \u001b[1;32mis\u001b[0m \u001b[1;32mNone\u001b[0m\u001b[1;33m:\u001b[0m\u001b[1;33m\u001b[0m\u001b[1;33m\u001b[0m\u001b[0m\n\u001b[1;32m--> 295\u001b[1;33m                 \u001b[0mwaiter\u001b[0m\u001b[1;33m.\u001b[0m\u001b[0macquire\u001b[0m\u001b[1;33m(\u001b[0m\u001b[1;33m)\u001b[0m\u001b[1;33m\u001b[0m\u001b[1;33m\u001b[0m\u001b[0m\n\u001b[0m\u001b[0;32m    296\u001b[0m                 \u001b[0mgotit\u001b[0m \u001b[1;33m=\u001b[0m \u001b[1;32mTrue\u001b[0m\u001b[1;33m\u001b[0m\u001b[1;33m\u001b[0m\u001b[0m\n\u001b[0;32m    297\u001b[0m             \u001b[1;32melse\u001b[0m\u001b[1;33m:\u001b[0m\u001b[1;33m\u001b[0m\u001b[1;33m\u001b[0m\u001b[0m\n",
      "\u001b[1;31mKeyboardInterrupt\u001b[0m: "
     ]
    }
   ],
   "source": [
    "%matplotlib inline\n",
    "from gensim.models import Word2Vec\n",
    "from tqdm import tqdm\n",
    "from matplotlib import pyplot as plt\n",
    "\n",
    "for s in tqdm([100*i for i in range(1,21)]):\n",
    "    x = []\n",
    "    y = []\n",
    "    for i in tqdm([5*i for i in range(1,21)]):\n",
    "        model = Word2Vec(result, size=s, window=5, min_count=10, workers=4, sg=1, iter=i)\n",
    "        cos = modeltest()\n",
    "        print(\"size = %d, iter = %d\" % (s, i))\n",
    "        print(cos)\n",
    "        x.append(i)\n",
    "        y.append(cos)\n",
    "        model.init_sims(replace=True)\n",
    "    plt.plot(x, y, c='m', ls='--', marker='o')\n",
    "    plt.xlabel('iter')\n",
    "    plt.ylabel('cos')\n",
    "    plt.show()"
   ]
  },
  {
   "cell_type": "code",
   "execution_count": 13,
   "metadata": {
    "collapsed": true
   },
   "outputs": [
    {
     "name": "stderr",
     "output_type": "stream",
     "text": [
      "  2%|██▎                                                                                          | 1/40 [00:05<03:22,  5.18s/it]"
     ]
    },
    {
     "name": "stdout",
     "output_type": "stream",
     "text": [
      "size = 5\n",
      "0.9949614356609923\n"
     ]
    },
    {
     "name": "stderr",
     "output_type": "stream",
     "text": [
      "\r",
      "  5%|████▋                                                                                        | 2/40 [00:10<03:21,  5.31s/it]"
     ]
    },
    {
     "name": "stdout",
     "output_type": "stream",
     "text": [
      "size = 10\n",
      "0.9533176491372579\n"
     ]
    },
    {
     "name": "stderr",
     "output_type": "stream",
     "text": [
      "\r",
      "  8%|██████▉                                                                                      | 3/40 [00:16<03:24,  5.53s/it]"
     ]
    },
    {
     "name": "stdout",
     "output_type": "stream",
     "text": [
      "size = 15\n",
      "0.9223858553809223\n"
     ]
    },
    {
     "name": "stderr",
     "output_type": "stream",
     "text": [
      "\r",
      " 10%|█████████▎                                                                                   | 4/40 [00:23<03:30,  5.86s/it]"
     ]
    },
    {
     "name": "stdout",
     "output_type": "stream",
     "text": [
      "size = 20\n",
      "0.899885826571492\n"
     ]
    },
    {
     "name": "stderr",
     "output_type": "stream",
     "text": [
      "\r",
      " 12%|███████████▋                                                                                 | 5/40 [00:30<03:37,  6.23s/it]"
     ]
    },
    {
     "name": "stdout",
     "output_type": "stream",
     "text": [
      "size = 25\n",
      "0.8759758200097645\n"
     ]
    },
    {
     "name": "stderr",
     "output_type": "stream",
     "text": [
      "\r",
      " 15%|█████████████▉                                                                               | 6/40 [00:38<03:45,  6.64s/it]"
     ]
    },
    {
     "name": "stdout",
     "output_type": "stream",
     "text": [
      "size = 30\n",
      "0.8650687388278174\n"
     ]
    },
    {
     "name": "stderr",
     "output_type": "stream",
     "text": [
      "\r",
      " 18%|████████████████▎                                                                            | 7/40 [00:44<03:33,  6.46s/it]"
     ]
    },
    {
     "name": "stdout",
     "output_type": "stream",
     "text": [
      "size = 35\n",
      "0.8511120719791393\n"
     ]
    },
    {
     "name": "stderr",
     "output_type": "stream",
     "text": [
      "\r",
      " 20%|██████████████████▌                                                                          | 8/40 [00:50<03:24,  6.38s/it]"
     ]
    },
    {
     "name": "stdout",
     "output_type": "stream",
     "text": [
      "size = 40\n",
      "0.8347196415572503\n"
     ]
    },
    {
     "name": "stderr",
     "output_type": "stream",
     "text": [
      "\r",
      " 22%|████████████████████▉                                                                        | 9/40 [00:57<03:20,  6.47s/it]"
     ]
    },
    {
     "name": "stdout",
     "output_type": "stream",
     "text": [
      "size = 45\n",
      "0.8166029988630011\n"
     ]
    },
    {
     "name": "stderr",
     "output_type": "stream",
     "text": [
      "\r",
      " 25%|███████████████████████                                                                     | 10/40 [01:04<03:19,  6.64s/it]"
     ]
    },
    {
     "name": "stdout",
     "output_type": "stream",
     "text": [
      "size = 50\n",
      "0.8062261958501981\n"
     ]
    },
    {
     "name": "stderr",
     "output_type": "stream",
     "text": [
      "\r",
      " 28%|█████████████████████████▎                                                                  | 11/40 [01:11<03:21,  6.96s/it]"
     ]
    },
    {
     "name": "stdout",
     "output_type": "stream",
     "text": [
      "size = 55\n",
      "0.7943486635896618\n"
     ]
    },
    {
     "name": "stderr",
     "output_type": "stream",
     "text": [
      "\r",
      " 30%|███████████████████████████▌                                                                | 12/40 [01:19<03:24,  7.31s/it]"
     ]
    },
    {
     "name": "stdout",
     "output_type": "stream",
     "text": [
      "size = 60\n",
      "0.7812279712593586\n"
     ]
    },
    {
     "name": "stderr",
     "output_type": "stream",
     "text": [
      "\r",
      " 32%|█████████████████████████████▉                                                              | 13/40 [01:26<03:09,  7.00s/it]"
     ]
    },
    {
     "name": "stdout",
     "output_type": "stream",
     "text": [
      "size = 65\n",
      "0.7728037868405135\n"
     ]
    },
    {
     "name": "stderr",
     "output_type": "stream",
     "text": [
      "\r",
      " 35%|████████████████████████████████▏                                                           | 14/40 [01:32<02:57,  6.84s/it]"
     ]
    },
    {
     "name": "stdout",
     "output_type": "stream",
     "text": [
      "size = 70\n",
      "0.7665467893330298\n"
     ]
    },
    {
     "name": "stderr",
     "output_type": "stream",
     "text": [
      "\r",
      " 38%|██████████████████████████████████▌                                                         | 15/40 [01:39<02:50,  6.81s/it]"
     ]
    },
    {
     "name": "stdout",
     "output_type": "stream",
     "text": [
      "size = 75\n",
      "0.7582790637607674\n"
     ]
    },
    {
     "name": "stderr",
     "output_type": "stream",
     "text": [
      "\r",
      " 40%|████████████████████████████████████▊                                                       | 16/40 [01:46<02:44,  6.87s/it]"
     ]
    },
    {
     "name": "stdout",
     "output_type": "stream",
     "text": [
      "size = 80\n",
      "0.753173613361528\n"
     ]
    },
    {
     "name": "stderr",
     "output_type": "stream",
     "text": [
      "\r",
      " 42%|███████████████████████████████████████                                                     | 17/40 [01:54<02:42,  7.09s/it]"
     ]
    },
    {
     "name": "stdout",
     "output_type": "stream",
     "text": [
      "size = 85\n",
      "0.744606790436777\n"
     ]
    },
    {
     "name": "stderr",
     "output_type": "stream",
     "text": [
      "\r",
      " 45%|█████████████████████████████████████████▍                                                  | 18/40 [02:02<02:42,  7.37s/it]"
     ]
    },
    {
     "name": "stdout",
     "output_type": "stream",
     "text": [
      "size = 90\n",
      "0.7355913013297646\n"
     ]
    },
    {
     "name": "stderr",
     "output_type": "stream",
     "text": [
      "\r",
      " 48%|███████████████████████████████████████████▋                                                | 19/40 [02:11<02:44,  7.85s/it]"
     ]
    },
    {
     "name": "stdout",
     "output_type": "stream",
     "text": [
      "size = 95\n",
      "0.7287972508771613\n"
     ]
    },
    {
     "name": "stderr",
     "output_type": "stream",
     "text": [
      "\r",
      " 50%|██████████████████████████████████████████████                                              | 20/40 [02:18<02:32,  7.61s/it]"
     ]
    },
    {
     "name": "stdout",
     "output_type": "stream",
     "text": [
      "size = 100\n",
      "0.7218320460372432\n"
     ]
    },
    {
     "name": "stderr",
     "output_type": "stream",
     "text": [
      "\r",
      " 52%|████████████████████████████████████████████████▎                                           | 21/40 [02:25<02:23,  7.54s/it]"
     ]
    },
    {
     "name": "stdout",
     "output_type": "stream",
     "text": [
      "size = 105\n",
      "0.7141419137893706\n"
     ]
    },
    {
     "name": "stderr",
     "output_type": "stream",
     "text": [
      "\r",
      " 55%|██████████████████████████████████████████████████▌                                         | 22/40 [02:33<02:16,  7.57s/it]"
     ]
    },
    {
     "name": "stdout",
     "output_type": "stream",
     "text": [
      "size = 110\n",
      "0.7123853560760812\n"
     ]
    },
    {
     "name": "stderr",
     "output_type": "stream",
     "text": [
      "\r",
      " 57%|████████████████████████████████████████████████████▉                                       | 23/40 [02:40<02:10,  7.66s/it]"
     ]
    },
    {
     "name": "stdout",
     "output_type": "stream",
     "text": [
      "size = 115\n",
      "0.7060528390556963\n"
     ]
    },
    {
     "name": "stderr",
     "output_type": "stream",
     "text": [
      "\r",
      " 60%|███████████████████████████████████████████████████████▏                                    | 24/40 [02:49<02:04,  7.80s/it]"
     ]
    },
    {
     "name": "stdout",
     "output_type": "stream",
     "text": [
      "size = 120\n",
      "0.7011769445851328\n"
     ]
    },
    {
     "name": "stderr",
     "output_type": "stream",
     "text": [
      "\r",
      " 62%|█████████████████████████████████████████████████████████▌                                  | 25/40 [02:57<02:01,  8.08s/it]"
     ]
    },
    {
     "name": "stdout",
     "output_type": "stream",
     "text": [
      "size = 125\n",
      "0.6998180113635549\n"
     ]
    },
    {
     "name": "stderr",
     "output_type": "stream",
     "text": [
      "\r",
      " 65%|███████████████████████████████████████████████████████████▊                                | 26/40 [03:04<01:48,  7.78s/it]"
     ]
    },
    {
     "name": "stdout",
     "output_type": "stream",
     "text": [
      "size = 130\n",
      "0.6918665969418484\n"
     ]
    },
    {
     "name": "stderr",
     "output_type": "stream",
     "text": [
      "\r",
      " 68%|██████████████████████████████████████████████████████████████                              | 27/40 [03:12<01:39,  7.67s/it]"
     ]
    },
    {
     "name": "stdout",
     "output_type": "stream",
     "text": [
      "size = 135\n",
      "0.6907403849979605\n"
     ]
    },
    {
     "name": "stderr",
     "output_type": "stream",
     "text": [
      "\r",
      " 70%|████████████████████████████████████████████████████████████████▍                           | 28/40 [03:19<01:31,  7.60s/it]"
     ]
    },
    {
     "name": "stdout",
     "output_type": "stream",
     "text": [
      "size = 140\n",
      "0.6921192335631144\n"
     ]
    },
    {
     "name": "stderr",
     "output_type": "stream",
     "text": [
      "\r",
      " 72%|██████████████████████████████████████████████████████████████████▋                         | 29/40 [03:27<01:24,  7.72s/it]"
     ]
    },
    {
     "name": "stdout",
     "output_type": "stream",
     "text": [
      "size = 145\n",
      "0.6913894624996434\n"
     ]
    },
    {
     "name": "stderr",
     "output_type": "stream",
     "text": [
      "\r",
      " 75%|█████████████████████████████████████████████████████████████████████                       | 30/40 [03:36<01:19,  7.97s/it]"
     ]
    },
    {
     "name": "stdout",
     "output_type": "stream",
     "text": [
      "size = 150\n",
      "0.6856849991154733\n"
     ]
    },
    {
     "name": "stderr",
     "output_type": "stream",
     "text": [
      "\r",
      " 78%|███████████████████████████████████████████████████████████████████████▎                    | 31/40 [03:45<01:14,  8.24s/it]"
     ]
    },
    {
     "name": "stdout",
     "output_type": "stream",
     "text": [
      "size = 155\n",
      "0.6869990670416436\n"
     ]
    },
    {
     "name": "stderr",
     "output_type": "stream",
     "text": [
      "\r",
      " 80%|█████████████████████████████████████████████████████████████████████████▌                  | 32/40 [03:52<01:03,  7.88s/it]"
     ]
    },
    {
     "name": "stdout",
     "output_type": "stream",
     "text": [
      "size = 160\n",
      "0.685873258246143\n"
     ]
    },
    {
     "name": "stderr",
     "output_type": "stream",
     "text": [
      "\r",
      " 82%|███████████████████████████████████████████████████████████████████████████▉                | 33/40 [03:59<00:54,  7.83s/it]"
     ]
    },
    {
     "name": "stdout",
     "output_type": "stream",
     "text": [
      "size = 165\n",
      "0.686880393571393\n"
     ]
    },
    {
     "name": "stderr",
     "output_type": "stream",
     "text": [
      "\r",
      " 85%|██████████████████████████████████████████████████████████████████████████████▏             | 34/40 [04:07<00:46,  7.81s/it]"
     ]
    },
    {
     "name": "stdout",
     "output_type": "stream",
     "text": [
      "size = 170\n",
      "0.6877193154460768\n"
     ]
    },
    {
     "name": "stderr",
     "output_type": "stream",
     "text": [
      "\r",
      " 88%|████████████████████████████████████████████████████████████████████████████████▌           | 35/40 [04:15<00:39,  7.93s/it]"
     ]
    },
    {
     "name": "stdout",
     "output_type": "stream",
     "text": [
      "size = 175\n",
      "0.6877226561074469\n"
     ]
    },
    {
     "name": "stderr",
     "output_type": "stream",
     "text": [
      "\r",
      " 90%|██████████████████████████████████████████████████████████████████████████████████▊         | 36/40 [04:24<00:32,  8.08s/it]"
     ]
    },
    {
     "name": "stdout",
     "output_type": "stream",
     "text": [
      "size = 180\n",
      "0.6857813765190289\n"
     ]
    },
    {
     "name": "stderr",
     "output_type": "stream",
     "text": [
      "\r",
      " 92%|█████████████████████████████████████████████████████████████████████████████████████       | 37/40 [04:33<00:25,  8.38s/it]"
     ]
    },
    {
     "name": "stdout",
     "output_type": "stream",
     "text": [
      "size = 185\n",
      "0.6797151087002716\n"
     ]
    },
    {
     "name": "stderr",
     "output_type": "stream",
     "text": [
      "\r",
      " 95%|███████████████████████████████████████████████████████████████████████████████████████▍    | 38/40 [04:42<00:17,  8.69s/it]"
     ]
    },
    {
     "name": "stdout",
     "output_type": "stream",
     "text": [
      "size = 190\n",
      "0.681267385499907\n"
     ]
    },
    {
     "name": "stderr",
     "output_type": "stream",
     "text": [
      "\r",
      " 98%|█████████████████████████████████████████████████████████████████████████████████████████▋  | 39/40 [04:50<00:08,  8.46s/it]"
     ]
    },
    {
     "name": "stdout",
     "output_type": "stream",
     "text": [
      "size = 195\n",
      "0.681806655761156\n"
     ]
    },
    {
     "name": "stderr",
     "output_type": "stream",
     "text": [
      "100%|████████████████████████████████████████████████████████████████████████████████████████████| 40/40 [04:58<00:00,  7.47s/it]"
     ]
    },
    {
     "name": "stdout",
     "output_type": "stream",
     "text": [
      "size = 200\n",
      "0.6792862664703911\n"
     ]
    },
    {
     "name": "stderr",
     "output_type": "stream",
     "text": [
      "\n"
     ]
    },
    {
     "data": {
      "image/png": "[encoded data removed]",
      "text/plain": [
       "<Figure size 432x288 with 1 Axes>"
      ]
     },
     "metadata": {
      "needs_background": "light"
     },
     "output_type": "display_data"
    }
   ],
   "source": [
    "%matplotlib inline\n",
    "from gensim.models import Word2Vec\n",
    "from tqdm import tqdm\n",
    "from matplotlib import pyplot as plt\n",
    "\n",
    "x = []\n",
    "y = []\n",
    "for s in tqdm([5*i for i in range(1,41)]):\n",
    "    model = Word2Vec(result, size=s, window=5, min_count=10, workers=4, sg=1, iter=5, sample=0.001)\n",
    "    cos = modeltest()\n",
    "    print(\"size = %d\" % s)\n",
    "    print(cos)\n",
    "    x.append(s)\n",
    "    y.append(cos)\n",
    "    model.init_sims(replace=True)\n",
    "plt.plot(x, y, c='m', ls='--', marker='o')\n",
    "plt.xlabel('size')\n",
    "plt.ylabel('cos')\n",
    "plt.show()"
   ]
  },
  {
   "cell_type": "code",
   "execution_count": 12,
   "metadata": {
    "scrolled": true
   },
   "outputs": [
    {
     "data": {
      "text/plain": [
       "[0.9951232993882879,\n",
       " 0.9535192213077147,\n",
       " 0.9243955578723091,\n",
       " 0.8995977305556713,\n",
       " 0.879223353090859,\n",
       " 0.8631892523317362,\n",
       " 0.845455129292864,\n",
       " 0.8324474170220427,\n",
       " 0.8185611718939739,\n",
       " 0.807150481886403,\n",
       " 0.7939413459898598,\n",
       " 0.7827848004610046,\n",
       " 0.7754851196048776,\n",
       " 0.7665681279514851,\n",
       " 0.7579359461604459,\n",
       " 0.748238581278928,\n",
       " 0.738639483408268,\n",
       " 0.7363662107339416,\n",
       " 0.7284979828810879,\n",
       " 0.7185318789033914,\n",
       " 0.7162147702809725,\n",
       " 0.7067181778483229,\n",
       " 0.7086173507236625,\n",
       " 0.6981396296550337,\n",
       " 0.6957361840937218,\n",
       " 0.6965063726310631,\n",
       " 0.6940260333040675,\n",
       " 0.689872028777867,\n",
       " 0.6895574241020661,\n",
       " 0.687967429973438,\n",
       " 0.6855626350983627,\n",
       " 0.6816648007917653,\n",
       " 0.6874846528544438,\n",
       " 0.6830412682058294,\n",
       " 0.6838497086853644,\n",
       " 0.6826923074439051,\n",
       " 0.6849838418997921,\n",
       " 0.6792981575970238,\n",
       " 0.6822279539572041,\n",
       " 0.6818182505375412]"
      ]
     },
     "execution_count": 12,
     "metadata": {},
     "output_type": "execute_result"
    }
   ],
   "source": [
    "y"
   ]
  },
  {
   "cell_type": "markdown",
   "metadata": {},
   "source": [
    "## 시각화"
   ]
  },
  {
   "cell_type": "code",
   "execution_count": null,
   "metadata": {},
   "outputs": [],
   "source": [
    "from sklearn.manifold import TSNE\n",
    "import matplotlib\n",
    "import matplotlib.pyplot as plt\n",
    "import gensim \n",
    "import gensim.models as g\n",
    "\n",
    "vocab = list(model.wv.vocab)\n",
    "X = model[vocab]\n",
    "\n",
    "print(len(X))\n",
    "tsne = TSNE(n_components=2)\n",
    "\n",
    "# 100개의 단어에 대해서만 시각화\n",
    "X_tsne = tsne.fit_transform(X[:100,:])\n",
    "# X_tsne = tsne.fit_transform(X)"
   ]
  },
  {
   "cell_type": "code",
   "execution_count": null,
   "metadata": {
    "scrolled": true
   },
   "outputs": [],
   "source": [
    "import pandas as pd\n",
    "\n",
    "df = pd.DataFrame(X_tsne, index=vocab[:len(X_tsne)], columns=['x', 'y'])\n",
    "df.shape"
   ]
  },
  {
   "cell_type": "code",
   "execution_count": null,
   "metadata": {
    "scrolled": true
   },
   "outputs": [],
   "source": [
    "import warnings\n",
    "warnings.filterwarnings('ignore')\n",
    "\n",
    "# 폰트 설정\n",
    "import matplotlib.font_manager as fm\n",
    "\n",
    "path = 'C:/Windows/Fonts/NGULIM.TTF'\n",
    "font_name = fm.FontProperties(fname=path, size=30).get_name()\n",
    "print(font_name)\n",
    "plt.rc('font', family=font_name)\n",
    "\n",
    "# 그래프에서 마이너스 폰트 깨지는 문제 해결\n",
    "matplotlib.rcParams['axes.unicode_minus'] = False\n",
    "\n",
    "%matplotlib inline\n",
    "\n",
    "fig = plt.figure()\n",
    "fig.set_size_inches(40, 20)\n",
    "ax = fig.add_subplot(1, 1, 1)\n",
    "\n",
    "ax.scatter(df['x'], df['y'])\n",
    "\n",
    "for word, pos in df.iterrows():\n",
    "    ax.annotate(word, pos, fontsize=20)\n",
    "plt.show()"
   ]
  }
 ],
 "metadata": {
  "kernelspec": {
   "display_name": "Python 3",
   "language": "python",
   "name": "python3"
  },
  "language_info": {
   "codemirror_mode": {
    "name": "ipython",
    "version": 3
   },
   "file_extension": ".py",
   "mimetype": "text/x-python",
   "name": "python",
   "nbconvert_exporter": "python",
   "pygments_lexer": "ipython3",
   "version": "3.6.10"
  }
 },
 "nbformat": 4,
 "nbformat_minor": 4
}
